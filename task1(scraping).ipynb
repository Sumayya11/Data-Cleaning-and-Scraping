{
 "cells": [
  {
   "cell_type": "code",
   "execution_count": 1,
   "id": "d3377744",
   "metadata": {},
   "outputs": [],
   "source": [
    "from bs4 import BeautifulSoup\n",
    "import pandas as pd\n",
    "import requests\n",
    "import csv"
   ]
  },
  {
   "cell_type": "markdown",
   "id": "c998979b",
   "metadata": {},
   "source": [
    "# Naheed scrapping"
   ]
  },
  {
   "cell_type": "code",
   "execution_count": 10,
   "id": "19c59979",
   "metadata": {},
   "outputs": [
    {
     "name": "stdout",
     "output_type": "stream",
     "text": [
      "Product Name: Xiaomi Redmi Note 12S 8GB/256GB Smart Phone, Onyx Black\n",
      "Product Price: Rs. 74,999.00\n",
      "Product Name: Xiaomi Redmi Note 12 8/128GB, Mint Green, Mobile Set\n",
      "Product Price: Rs. 54,999.00\n",
      "Product Name: Samsung Galaxy A34 5G 8/256GB Smart Phone, Awesome Silver\n",
      "Product Price: Rs. 114,999.00\n",
      "Product Name: Samsung Galaxy A24 8/128GB, Light Green, Mobile Set\n",
      "Product Price: Rs. 79,999.00\n",
      "Product Name: Xiaomi Redmi Note 12 8/128GB Smart Phone, Ice Blue\n",
      "Product Price: Rs. 54,999.00\n",
      "Product Name: Samsung Galaxy A34 5G 8/256GB Smart Phone, Awesome Graphite\n",
      "Product Price: Rs. 114,999.00\n",
      "Product Name: Xiaomi Redmi 12C 4/128GB, Graphite Gray, Mobile Set\n",
      "Product Price: Rs. 27,999.00\n",
      "Product Name: Samsung Galaxy A04S 4/128GB Smart Phone, Copper\n",
      "Product Price: Rs. 43,999.00\n",
      "Product Name: Xiaomi Redmi 12C 4/128GB, Ocean Blue, Mobile Set\n",
      "Product Price: Rs. 27,999.00\n",
      "Product Name: Xiaomi Redmi 12C 4/128GB Mobile Set, Mint Green\n",
      "Product Price: Rs. 27,999.00\n",
      "Product Name: Samsung Galaxy A54 5G 8/256GB Mobile Set, Awesome Graphite\n",
      "Product Price: Rs. 140,999.00\n",
      "Product Name: Samsung Galaxy Z Fold 4 12GB/256GB Smartphone, Gray Green \n",
      "Product Price: Rs. 540,000.00\n",
      "Product Name: Samsung Galaxy Z Flip 4 8GB/512GB Smartphone, Blue \n",
      "Product Price: Rs. 367,000.00\n",
      "Product Name: Samsung Galaxy Z Flip 4 8GB/256GB Smartphone, Blue \n",
      "Product Price: Rs. 333,000.00\n",
      "Product Name: Samsung Galaxy S22 Ultra 12GB/256GB Smartphone, Green\n",
      "Product Price: Rs. 425,000.00\n",
      "Product Name: Samsung Galaxy Z Fold 4 12GB/512GB Smartphone, Gray Green \n",
      "Product Price: Rs. 575,000.00\n",
      "Product Name: Samsung Galaxy Z Flip 4 8GB/512GB Smartphone, Grey \n",
      "Product Price: Rs. 367,000.00\n",
      "Product Name: Samsung Galaxy Z Flip 4 8GB/256GB Smartphone, Purple \n",
      "Product Price: Rs. 333,000.00\n",
      "Product Name: Samsung Galaxy Z Fold 4 12GB/512GB Smartphone, Phantom Black \n",
      "Product Price: Rs. 575,000.00\n",
      "Product Name: Samsung Galaxy A13 4GB/64GB Smartphone, Black\n",
      "Product Price: Rs. 58,000.00\n",
      "Product Name: Xiaomi Redmi Note 12S 8GB/256GB Smart Phone, Onyx Black\n",
      "Product Price: Rs. 74,999.00\n",
      "Product Name: Xiaomi Redmi Note 12 8/128GB, Mint Green, Mobile Set\n",
      "Product Price: Rs. 54,999.00\n",
      "Product Name: Samsung Galaxy A34 5G 8/256GB Smart Phone, Awesome Silver\n",
      "Product Price: Rs. 114,999.00\n",
      "Product Name: Samsung Galaxy A24 8/128GB, Light Green, Mobile Set\n",
      "Product Price: Rs. 79,999.00\n",
      "Product Name: Xiaomi Redmi Note 12 8/128GB Smart Phone, Ice Blue\n",
      "Product Price: Rs. 54,999.00\n",
      "Product Name: Samsung Galaxy A34 5G 8/256GB Smart Phone, Awesome Graphite\n",
      "Product Price: Rs. 114,999.00\n",
      "Product Name: Xiaomi Redmi 12C 4/128GB, Graphite Gray, Mobile Set\n",
      "Product Price: Rs. 27,999.00\n",
      "Product Name: Samsung Galaxy A04S 4/128GB Smart Phone, Copper\n",
      "Product Price: Rs. 43,999.00\n",
      "Product Name: Xiaomi Redmi 12C 4/128GB, Ocean Blue, Mobile Set\n",
      "Product Price: Rs. 27,999.00\n",
      "Product Name: Xiaomi Redmi 12C 4/128GB Mobile Set, Mint Green\n",
      "Product Price: Rs. 27,999.00\n",
      "Product Name: Samsung Galaxy A54 5G 8/256GB Mobile Set, Awesome Graphite\n",
      "Product Price: Rs. 140,999.00\n",
      "Product Name: Samsung Galaxy Z Fold 4 12GB/256GB Smartphone, Gray Green \n",
      "Product Price: Rs. 540,000.00\n",
      "Product Name: Samsung Galaxy Z Flip 4 8GB/512GB Smartphone, Blue \n",
      "Product Price: Rs. 367,000.00\n",
      "Product Name: Samsung Galaxy Z Flip 4 8GB/256GB Smartphone, Blue \n",
      "Product Price: Rs. 333,000.00\n",
      "Product Name: Samsung Galaxy S22 Ultra 12GB/256GB Smartphone, Green\n",
      "Product Price: Rs. 425,000.00\n",
      "Product Name: Samsung Galaxy Z Fold 4 12GB/512GB Smartphone, Gray Green \n",
      "Product Price: Rs. 575,000.00\n",
      "Product Name: Samsung Galaxy Z Flip 4 8GB/512GB Smartphone, Grey \n",
      "Product Price: Rs. 367,000.00\n",
      "Product Name: Samsung Galaxy Z Flip 4 8GB/256GB Smartphone, Purple \n",
      "Product Price: Rs. 333,000.00\n",
      "Product Name: Samsung Galaxy Z Fold 4 12GB/512GB Smartphone, Phantom Black \n",
      "Product Price: Rs. 575,000.00\n",
      "Product Name: Samsung Galaxy A13 4GB/64GB Smartphone, Black\n",
      "Product Price: Rs. 58,000.00\n",
      "Product Name: Xiaomi Redmi Note 12S 8GB/256GB Smart Phone, Onyx Black\n",
      "Product Price: Rs. 74,999.00\n",
      "Product Name: Xiaomi Redmi Note 12 8/128GB, Mint Green, Mobile Set\n",
      "Product Price: Rs. 54,999.00\n",
      "Product Name: Samsung Galaxy A34 5G 8/256GB Smart Phone, Awesome Silver\n",
      "Product Price: Rs. 114,999.00\n",
      "Product Name: Samsung Galaxy A24 8/128GB, Light Green, Mobile Set\n",
      "Product Price: Rs. 79,999.00\n",
      "Product Name: Xiaomi Redmi Note 12 8/128GB Smart Phone, Ice Blue\n",
      "Product Price: Rs. 54,999.00\n",
      "Product Name: Samsung Galaxy A34 5G 8/256GB Smart Phone, Awesome Graphite\n",
      "Product Price: Rs. 114,999.00\n",
      "Product Name: Xiaomi Redmi 12C 4/128GB, Graphite Gray, Mobile Set\n",
      "Product Price: Rs. 27,999.00\n",
      "Product Name: Samsung Galaxy A04S 4/128GB Smart Phone, Copper\n",
      "Product Price: Rs. 43,999.00\n",
      "Product Name: Xiaomi Redmi 12C 4/128GB, Ocean Blue, Mobile Set\n",
      "Product Price: Rs. 27,999.00\n",
      "Product Name: Xiaomi Redmi 12C 4/128GB Mobile Set, Mint Green\n",
      "Product Price: Rs. 27,999.00\n",
      "Product Name: Samsung Galaxy A54 5G 8/256GB Mobile Set, Awesome Graphite\n",
      "Product Price: Rs. 140,999.00\n",
      "Product Name: Samsung Galaxy Z Fold 4 12GB/256GB Smartphone, Gray Green \n",
      "Product Price: Rs. 540,000.00\n",
      "Product Name: Samsung Galaxy Z Flip 4 8GB/512GB Smartphone, Blue \n",
      "Product Price: Rs. 367,000.00\n",
      "Product Name: Samsung Galaxy Z Flip 4 8GB/256GB Smartphone, Blue \n",
      "Product Price: Rs. 333,000.00\n",
      "Product Name: Samsung Galaxy S22 Ultra 12GB/256GB Smartphone, Green\n",
      "Product Price: Rs. 425,000.00\n",
      "Product Name: Samsung Galaxy Z Fold 4 12GB/512GB Smartphone, Gray Green \n",
      "Product Price: Rs. 575,000.00\n",
      "Product Name: Samsung Galaxy Z Flip 4 8GB/512GB Smartphone, Grey \n",
      "Product Price: Rs. 367,000.00\n",
      "Product Name: Samsung Galaxy Z Flip 4 8GB/256GB Smartphone, Purple \n",
      "Product Price: Rs. 333,000.00\n",
      "Product Name: Samsung Galaxy Z Fold 4 12GB/512GB Smartphone, Phantom Black \n",
      "Product Price: Rs. 575,000.00\n",
      "Product Name: Samsung Galaxy A13 4GB/64GB Smartphone, Black\n",
      "Product Price: Rs. 58,000.00\n",
      "Product Name: Xiaomi Redmi Note 12S 8GB/256GB Smart Phone, Onyx Black\n",
      "Product Price: Rs. 74,999.00\n",
      "Product Name: Xiaomi Redmi Note 12 8/128GB, Mint Green, Mobile Set\n",
      "Product Price: Rs. 54,999.00\n",
      "Product Name: Samsung Galaxy A34 5G 8/256GB Smart Phone, Awesome Silver\n",
      "Product Price: Rs. 114,999.00\n",
      "Product Name: Samsung Galaxy A24 8/128GB, Light Green, Mobile Set\n",
      "Product Price: Rs. 79,999.00\n",
      "Product Name: Xiaomi Redmi Note 12 8/128GB Smart Phone, Ice Blue\n",
      "Product Price: Rs. 54,999.00\n",
      "Product Name: Samsung Galaxy A34 5G 8/256GB Smart Phone, Awesome Graphite\n",
      "Product Price: Rs. 114,999.00\n",
      "Product Name: Xiaomi Redmi 12C 4/128GB, Graphite Gray, Mobile Set\n",
      "Product Price: Rs. 27,999.00\n",
      "Product Name: Samsung Galaxy A04S 4/128GB Smart Phone, Copper\n",
      "Product Price: Rs. 43,999.00\n",
      "Product Name: Xiaomi Redmi 12C 4/128GB, Ocean Blue, Mobile Set\n",
      "Product Price: Rs. 27,999.00\n",
      "Product Name: Xiaomi Redmi 12C 4/128GB Mobile Set, Mint Green\n",
      "Product Price: Rs. 27,999.00\n",
      "Product Name: Samsung Galaxy A54 5G 8/256GB Mobile Set, Awesome Graphite\n",
      "Product Price: Rs. 140,999.00\n",
      "Product Name: Samsung Galaxy Z Fold 4 12GB/256GB Smartphone, Gray Green \n",
      "Product Price: Rs. 540,000.00\n",
      "Product Name: Samsung Galaxy Z Flip 4 8GB/512GB Smartphone, Blue \n",
      "Product Price: Rs. 367,000.00\n",
      "Product Name: Samsung Galaxy Z Flip 4 8GB/256GB Smartphone, Blue \n",
      "Product Price: Rs. 333,000.00\n",
      "Product Name: Samsung Galaxy S22 Ultra 12GB/256GB Smartphone, Green\n",
      "Product Price: Rs. 425,000.00\n",
      "Product Name: Samsung Galaxy Z Fold 4 12GB/512GB Smartphone, Gray Green \n",
      "Product Price: Rs. 575,000.00\n",
      "Product Name: Samsung Galaxy Z Flip 4 8GB/512GB Smartphone, Grey \n",
      "Product Price: Rs. 367,000.00\n",
      "Product Name: Samsung Galaxy Z Flip 4 8GB/256GB Smartphone, Purple \n",
      "Product Price: Rs. 333,000.00\n",
      "Product Name: Samsung Galaxy Z Fold 4 12GB/512GB Smartphone, Phantom Black \n",
      "Product Price: Rs. 575,000.00\n",
      "Product Name: Samsung Galaxy A13 4GB/64GB Smartphone, Black\n",
      "Product Price: Rs. 58,000.00\n",
      "Product Name: Xiaomi Redmi Note 12S 8GB/256GB Smart Phone, Onyx Black\n",
      "Product Price: Rs. 74,999.00\n",
      "Product Name: Xiaomi Redmi Note 12 8/128GB, Mint Green, Mobile Set\n",
      "Product Price: Rs. 54,999.00\n",
      "Product Name: Samsung Galaxy A34 5G 8/256GB Smart Phone, Awesome Silver\n",
      "Product Price: Rs. 114,999.00\n",
      "Product Name: Samsung Galaxy A24 8/128GB, Light Green, Mobile Set\n",
      "Product Price: Rs. 79,999.00\n",
      "Product Name: Xiaomi Redmi Note 12 8/128GB Smart Phone, Ice Blue\n",
      "Product Price: Rs. 54,999.00\n",
      "Product Name: Samsung Galaxy A34 5G 8/256GB Smart Phone, Awesome Graphite\n",
      "Product Price: Rs. 114,999.00\n",
      "Product Name: Xiaomi Redmi 12C 4/128GB, Graphite Gray, Mobile Set\n",
      "Product Price: Rs. 27,999.00\n",
      "Product Name: Samsung Galaxy A04S 4/128GB Smart Phone, Copper\n",
      "Product Price: Rs. 43,999.00\n",
      "Product Name: Xiaomi Redmi 12C 4/128GB, Ocean Blue, Mobile Set\n",
      "Product Price: Rs. 27,999.00\n",
      "Product Name: Xiaomi Redmi 12C 4/128GB Mobile Set, Mint Green\n",
      "Product Price: Rs. 27,999.00\n",
      "Product Name: Samsung Galaxy A54 5G 8/256GB Mobile Set, Awesome Graphite\n",
      "Product Price: Rs. 140,999.00\n",
      "Product Name: Samsung Galaxy Z Fold 4 12GB/256GB Smartphone, Gray Green \n",
      "Product Price: Rs. 540,000.00\n",
      "Product Name: Samsung Galaxy Z Flip 4 8GB/512GB Smartphone, Blue \n",
      "Product Price: Rs. 367,000.00\n",
      "Product Name: Samsung Galaxy Z Flip 4 8GB/256GB Smartphone, Blue \n",
      "Product Price: Rs. 333,000.00\n",
      "Product Name: Samsung Galaxy S22 Ultra 12GB/256GB Smartphone, Green\n",
      "Product Price: Rs. 425,000.00\n",
      "Product Name: Samsung Galaxy Z Fold 4 12GB/512GB Smartphone, Gray Green \n",
      "Product Price: Rs. 575,000.00\n",
      "Product Name: Samsung Galaxy Z Flip 4 8GB/512GB Smartphone, Grey \n",
      "Product Price: Rs. 367,000.00\n",
      "Product Name: Samsung Galaxy Z Flip 4 8GB/256GB Smartphone, Purple \n",
      "Product Price: Rs. 333,000.00\n",
      "Product Name: Samsung Galaxy Z Fold 4 12GB/512GB Smartphone, Phantom Black \n",
      "Product Price: Rs. 575,000.00\n",
      "Product Name: Samsung Galaxy A13 4GB/64GB Smartphone, Black\n",
      "Product Price: Rs. 58,000.00\n"
     ]
    }
   ],
   "source": [
    "naheed_data= []\n",
    "for i in range(1,6):\n",
    "    \n",
    "    url = \"https://www.naheed.pk/phones-tablets/smartphones?p=\"+str(i)\n",
    "    r = requests.get(url)\n",
    "    #print(r)\n",
    "\n",
    "    soup = BeautifulSoup(r.text,\"lxml\")\n",
    "    #print(soup)\n",
    "    \n",
    "    #print(url)\n",
    "    \n",
    "    names = soup.find_all(\"a\",class_ = \"product-item-link\")\n",
    "    titles = [a['title'] for a in names]\n",
    "    prices = soup.find_all(\"span\", class_=\"price\")\n",
    "    \n",
    "    for name, price in zip(names, prices):\n",
    "        product_name = name['title']\n",
    "        price_text = price.text\n",
    "        # Remove \"Rs.\" and commas, then convert to a float\n",
    "        #product_price = float(price_text.replace('Rs. ', '').replace(',', ''))\n",
    "        print(f\"Product Name: {product_name}\")\n",
    "        print(f\"Product Price: {price_text}\")\n",
    "        naheed_data.append({\"Product Name\": product_name, \"Product Price\": price_text})\n",
    "\n",
    "        \n",
    "\n",
    "#     for title in titles:\n",
    "#         print(title)\n",
    "        \n",
    "#     for price in prices:\n",
    "#         price_text = price.text\n",
    "#         # Remove \"Rs.\" and commas, then convert to a float\n",
    "#         price = float(price_text.replace('Rs. ', '').replace(',', ''))\n",
    "#         print(price)\n",
    "    "
   ]
  },
  {
   "cell_type": "markdown",
   "id": "61c0d970",
   "metadata": {},
   "source": [
    "saving in csv"
   ]
  },
  {
   "cell_type": "code",
   "execution_count": 11,
   "id": "fec6c22d",
   "metadata": {},
   "outputs": [
    {
     "name": "stdout",
     "output_type": "stream",
     "text": [
      "                                         Product Name   Product Price\n",
      "0   Xiaomi Redmi Note 12S 8GB/256GB Smart Phone, O...   Rs. 74,999.00\n",
      "1   Xiaomi Redmi Note 12 8/128GB, Mint Green, Mobi...   Rs. 54,999.00\n",
      "2   Samsung Galaxy A34 5G 8/256GB Smart Phone, Awe...  Rs. 114,999.00\n",
      "3   Samsung Galaxy A24 8/128GB, Light Green, Mobil...   Rs. 79,999.00\n",
      "4   Xiaomi Redmi Note 12 8/128GB Smart Phone, Ice ...   Rs. 54,999.00\n",
      "..                                                ...             ...\n",
      "95  Samsung Galaxy Z Fold 4 12GB/512GB Smartphone,...  Rs. 575,000.00\n",
      "96  Samsung Galaxy Z Flip 4 8GB/512GB Smartphone, ...  Rs. 367,000.00\n",
      "97  Samsung Galaxy Z Flip 4 8GB/256GB Smartphone, ...  Rs. 333,000.00\n",
      "98  Samsung Galaxy Z Fold 4 12GB/512GB Smartphone,...  Rs. 575,000.00\n",
      "99      Samsung Galaxy A13 4GB/64GB Smartphone, Black   Rs. 58,000.00\n",
      "\n",
      "[100 rows x 2 columns]\n"
     ]
    }
   ],
   "source": [
    "df = pd.DataFrame(naheed_data, columns = [\"Product Name\", \"Product Price\"])\n",
    "print(df)"
   ]
  },
  {
   "cell_type": "code",
   "execution_count": 12,
   "id": "bfd70347",
   "metadata": {},
   "outputs": [],
   "source": [
    "writer_n = pd.ExcelWriter('naheed_data.xlsx')\n",
    "df.to_excel(writer_n,'Sheet1')\n",
    "writer_n.save()"
   ]
  },
  {
   "cell_type": "code",
   "execution_count": 20,
   "id": "a5bd0c86",
   "metadata": {},
   "outputs": [
    {
     "name": "stdout",
     "output_type": "stream",
     "text": [
      "<class 'pandas.core.frame.DataFrame'>\n",
      "RangeIndex: 100 entries, 0 to 99\n",
      "Data columns (total 2 columns):\n",
      " #   Column         Non-Null Count  Dtype \n",
      "---  ------         --------------  ----- \n",
      " 0   Product Name   100 non-null    object\n",
      " 1   Product Price  100 non-null    object\n",
      "dtypes: object(2)\n",
      "memory usage: 1.7+ KB\n"
     ]
    }
   ],
   "source": [
    "df.info()"
   ]
  },
  {
   "cell_type": "code",
   "execution_count": 21,
   "id": "74607cc0",
   "metadata": {},
   "outputs": [
    {
     "data": {
      "text/html": [
       "<div>\n",
       "<style scoped>\n",
       "    .dataframe tbody tr th:only-of-type {\n",
       "        vertical-align: middle;\n",
       "    }\n",
       "\n",
       "    .dataframe tbody tr th {\n",
       "        vertical-align: top;\n",
       "    }\n",
       "\n",
       "    .dataframe thead th {\n",
       "        text-align: right;\n",
       "    }\n",
       "</style>\n",
       "<table border=\"1\" class=\"dataframe\">\n",
       "  <thead>\n",
       "    <tr style=\"text-align: right;\">\n",
       "      <th></th>\n",
       "      <th>Product Name</th>\n",
       "      <th>Product Price</th>\n",
       "    </tr>\n",
       "  </thead>\n",
       "  <tbody>\n",
       "    <tr>\n",
       "      <th>0</th>\n",
       "      <td>Xiaomi Redmi Note 12S 8GB/256GB Smart Phone, O...</td>\n",
       "      <td>Rs. 74,999.00</td>\n",
       "    </tr>\n",
       "    <tr>\n",
       "      <th>1</th>\n",
       "      <td>Xiaomi Redmi Note 12 8/128GB, Mint Green, Mobi...</td>\n",
       "      <td>Rs. 54,999.00</td>\n",
       "    </tr>\n",
       "    <tr>\n",
       "      <th>2</th>\n",
       "      <td>Samsung Galaxy A34 5G 8/256GB Smart Phone, Awe...</td>\n",
       "      <td>Rs. 114,999.00</td>\n",
       "    </tr>\n",
       "    <tr>\n",
       "      <th>3</th>\n",
       "      <td>Samsung Galaxy A24 8/128GB, Light Green, Mobil...</td>\n",
       "      <td>Rs. 79,999.00</td>\n",
       "    </tr>\n",
       "    <tr>\n",
       "      <th>4</th>\n",
       "      <td>Xiaomi Redmi Note 12 8/128GB Smart Phone, Ice ...</td>\n",
       "      <td>Rs. 54,999.00</td>\n",
       "    </tr>\n",
       "  </tbody>\n",
       "</table>\n",
       "</div>"
      ],
      "text/plain": [
       "                                        Product Name   Product Price\n",
       "0  Xiaomi Redmi Note 12S 8GB/256GB Smart Phone, O...   Rs. 74,999.00\n",
       "1  Xiaomi Redmi Note 12 8/128GB, Mint Green, Mobi...   Rs. 54,999.00\n",
       "2  Samsung Galaxy A34 5G 8/256GB Smart Phone, Awe...  Rs. 114,999.00\n",
       "3  Samsung Galaxy A24 8/128GB, Light Green, Mobil...   Rs. 79,999.00\n",
       "4  Xiaomi Redmi Note 12 8/128GB Smart Phone, Ice ...   Rs. 54,999.00"
      ]
     },
     "execution_count": 21,
     "metadata": {},
     "output_type": "execute_result"
    }
   ],
   "source": [
    "df.head()"
   ]
  },
  {
   "cell_type": "code",
   "execution_count": 33,
   "id": "9452fb51",
   "metadata": {},
   "outputs": [
    {
     "data": {
      "text/plain": [
       "dtype('O')"
      ]
     },
     "execution_count": 33,
     "metadata": {},
     "output_type": "execute_result"
    }
   ],
   "source": [
    "df[\"Product Price\"].dtype"
   ]
  },
  {
   "cell_type": "code",
   "execution_count": 35,
   "id": "ad2b88a2",
   "metadata": {},
   "outputs": [
    {
     "name": "stderr",
     "output_type": "stream",
     "text": [
      "C:\\Users\\FIVEST~1\\AppData\\Local\\Temp/ipykernel_4776/344749516.py:2: FutureWarning: The default value of regex will change from True to False in a future version.\n",
      "  df[column_name] = df[column_name].str.replace('Rs.', '').str.replace(',', '', regex=True).astype(float)\n"
     ]
    }
   ],
   "source": [
    "column_name = \"Product Price\"\n",
    "df[column_name] = df[column_name].str.replace('Rs.', '').str.replace(',', '', regex=True).astype(float)"
   ]
  },
  {
   "cell_type": "code",
   "execution_count": 36,
   "id": "6b241c91",
   "metadata": {},
   "outputs": [
    {
     "data": {
      "text/html": [
       "<div>\n",
       "<style scoped>\n",
       "    .dataframe tbody tr th:only-of-type {\n",
       "        vertical-align: middle;\n",
       "    }\n",
       "\n",
       "    .dataframe tbody tr th {\n",
       "        vertical-align: top;\n",
       "    }\n",
       "\n",
       "    .dataframe thead th {\n",
       "        text-align: right;\n",
       "    }\n",
       "</style>\n",
       "<table border=\"1\" class=\"dataframe\">\n",
       "  <thead>\n",
       "    <tr style=\"text-align: right;\">\n",
       "      <th></th>\n",
       "      <th>Product Name</th>\n",
       "      <th>Product Price</th>\n",
       "    </tr>\n",
       "  </thead>\n",
       "  <tbody>\n",
       "    <tr>\n",
       "      <th>0</th>\n",
       "      <td>Xiaomi Redmi Note 12S 8GB/256GB Smart Phone, O...</td>\n",
       "      <td>74999.0</td>\n",
       "    </tr>\n",
       "    <tr>\n",
       "      <th>1</th>\n",
       "      <td>Xiaomi Redmi Note 12 8/128GB, Mint Green, Mobi...</td>\n",
       "      <td>54999.0</td>\n",
       "    </tr>\n",
       "    <tr>\n",
       "      <th>2</th>\n",
       "      <td>Samsung Galaxy A34 5G 8/256GB Smart Phone, Awe...</td>\n",
       "      <td>114999.0</td>\n",
       "    </tr>\n",
       "    <tr>\n",
       "      <th>3</th>\n",
       "      <td>Samsung Galaxy A24 8/128GB, Light Green, Mobil...</td>\n",
       "      <td>79999.0</td>\n",
       "    </tr>\n",
       "    <tr>\n",
       "      <th>4</th>\n",
       "      <td>Xiaomi Redmi Note 12 8/128GB Smart Phone, Ice ...</td>\n",
       "      <td>54999.0</td>\n",
       "    </tr>\n",
       "  </tbody>\n",
       "</table>\n",
       "</div>"
      ],
      "text/plain": [
       "                                        Product Name  Product Price\n",
       "0  Xiaomi Redmi Note 12S 8GB/256GB Smart Phone, O...        74999.0\n",
       "1  Xiaomi Redmi Note 12 8/128GB, Mint Green, Mobi...        54999.0\n",
       "2  Samsung Galaxy A34 5G 8/256GB Smart Phone, Awe...       114999.0\n",
       "3  Samsung Galaxy A24 8/128GB, Light Green, Mobil...        79999.0\n",
       "4  Xiaomi Redmi Note 12 8/128GB Smart Phone, Ice ...        54999.0"
      ]
     },
     "execution_count": 36,
     "metadata": {},
     "output_type": "execute_result"
    }
   ],
   "source": [
    "df.head()"
   ]
  },
  {
   "cell_type": "code",
   "execution_count": 37,
   "id": "9e46491e",
   "metadata": {},
   "outputs": [
    {
     "data": {
      "text/plain": [
       "dtype('float64')"
      ]
     },
     "execution_count": 37,
     "metadata": {},
     "output_type": "execute_result"
    }
   ],
   "source": [
    "df[\"Product Price\"].dtype"
   ]
  },
  {
   "cell_type": "markdown",
   "id": "bf96d482",
   "metadata": {},
   "source": [
    "# Shophive scrapping"
   ]
  },
  {
   "cell_type": "code",
   "execution_count": 3,
   "id": "4b6ec053",
   "metadata": {},
   "outputs": [
    {
     "name": "stdout",
     "output_type": "stream",
     "text": [
      "Product Name: Infinix Note 30 VIP 8GB 256GB\n",
      "Product Price: Rs 33,999.00\n",
      "Product Name: iTel S23 8GB 256GB\n",
      "Product Price: Rs 29,999.00\n",
      "Product Name: iTel S23 8GB 128GB\n",
      "Product Price: Rs 30,999.00\n",
      "Product Name: ZTE Blade A51 2GB 64GB\n",
      "Product Price: Rs 21,999.00\n",
      "Product Name: Honor X6 4GB 64GB\n",
      "Product Price: Rs 34,999.00\n",
      "Product Name: Sparx S6 2GB 32GB\n",
      "Product Price: Rs 40,999.00\n",
      "Product Name: Tecno Spark 10c 4GB 128GB\n",
      "Product Price: Rs 16,299.00\n",
      "Product Name: Infinix Smart 7 4GB 64GB\n",
      "Product Price: Rs 29,999.00\n",
      "Product Name: iTel A26 2GB 32GB\n",
      "Product Price: Rs 25,999.00\n",
      "Product Name: Sparx Neo 7 3GB 64GB\n",
      "Product Price: Rs 22,499.00\n",
      "Product Name: Sparx Neo 5 2GB 32GB\n",
      "Product Price: Rs 24,499.00\n",
      "Product Name: VNUS Sky 1 2GB 32GB\n",
      "Product Price: Rs 21,499.00\n",
      "Product Name: Digit Glory 1 2GB 32GB\n",
      "Product Price: Rs 23,499.00\n",
      "Product Name: VNUS SE22 3GB 64GB\n",
      "Product Price: Rs 16,999.00\n",
      "Product Name: Itel A60S 4GB 128GB\n",
      "Product Price: Rs 17,499.00\n",
      "Product Name: iTel It9010\n",
      "Product Price: Rs 27,999.00\n",
      "Product Name: iTel Value 110\n",
      "Product Price: Rs 2,999.00\n",
      "Product Name: Oneplus 10 Pro 5G 12GB 256GB\n",
      "Product Price: Rs 189,999.00\n",
      "Product Name: Oneplus 10 Pro 5G 12GB 512GB\n",
      "Product Price: Rs 198,999.00\n",
      "Product Name: Google Pixel 6 8GB 128GB\n",
      "Product Price: Rs 34,999.00\n",
      "Product Name: Dcode Bold 2 4GB 64GB\n",
      "Product Price: Rs 249,999.00\n",
      "Product Name: Google Pixel 7 8GB 128GB\n",
      "Product Price: Rs 259,999.00\n",
      "Product Name: Google Pixel 7 Pro\n",
      "Product Price: Rs 23,999.00\n",
      "Product Name: iTel P17 Pro 2GB 32GB\n",
      "Product Price: Rs 32,999.00\n",
      "Product Name: iTel Vision 3\n",
      "Product Price: Rs 3,999.00\n",
      "Product Name: iTel IT9010 4G \n",
      "Product Price: Rs 2,999.00\n",
      "Product Name: iTel Value 100\n",
      "Product Price: Rs 4,599.00\n",
      "Product Name: iTel Muzik 400\n",
      "Product Price: Rs 4,299.00\n",
      "Product Name: iTel Muzik 410 Pro\n",
      "Product Price: Rs 20,999.00\n",
      "Product Name: Redmi A2+ 3GB 64GB\n",
      "Product Price: Rs 22,999.00\n",
      "Product Name: Xiaomi Redmi 12C 4GB 128GB\n",
      "Product Price: Rs 26,799.00\n",
      "Product Name: Samsung Galaxy A04s 4GB 128GB\n",
      "Product Price: Rs 33,999.00\n"
     ]
    }
   ],
   "source": [
    "shophive_data = []\n",
    "for i in range(1,3):\n",
    "    url = \"https://www.shophive.com/mobile-phones?p=\"+str(i)\n",
    "    r = requests.get(url)\n",
    "    #print(r)\n",
    "\n",
    "    soup = BeautifulSoup(r.text,\"lxml\")\n",
    "    #print(soup)\n",
    "    #url = \"https://www.shophive.com/mobile-phones?p=\"+str(i)\n",
    "    #print(url)\n",
    "    \n",
    "    names = soup.find_all(\"a\",class_ = \"product-item-link\")\n",
    "    titles = [a['title'] for a in names]\n",
    "    prices = soup.find_all(\"span\", class_=\"price\")\n",
    "    \n",
    "    for name, price in zip(names, prices):\n",
    "        product_name_s = name['title']\n",
    "        price_text_s = price.text\n",
    "        # Remove \"Rs.\" and commas, then convert to a float\n",
    "        #product_price = float(price_text.replace('Rs. ', '').replace(',', ''))\n",
    "        print(f\"Product Name: {product_name_s}\")\n",
    "        print(f\"Product Price: {price_text_s}\")\n",
    "        shophive_data.append({\"Product Name\": product_name_s, \"Product Price\": price_text_s})\n"
   ]
  },
  {
   "cell_type": "markdown",
   "id": "2c7b1053",
   "metadata": {},
   "source": [
    "saving in csv"
   ]
  },
  {
   "cell_type": "code",
   "execution_count": 4,
   "id": "5c1e45d8",
   "metadata": {},
   "outputs": [
    {
     "name": "stdout",
     "output_type": "stream",
     "text": [
      "                     Product Name  Product Price\n",
      "0   Infinix Note 30 VIP 8GB 256GB   Rs 33,999.00\n",
      "1              iTel S23 8GB 256GB   Rs 29,999.00\n",
      "2              iTel S23 8GB 128GB   Rs 30,999.00\n",
      "3          ZTE Blade A51 2GB 64GB   Rs 21,999.00\n",
      "4               Honor X6 4GB 64GB   Rs 34,999.00\n",
      "5               Sparx S6 2GB 32GB   Rs 40,999.00\n",
      "6       Tecno Spark 10c 4GB 128GB   Rs 16,299.00\n",
      "7        Infinix Smart 7 4GB 64GB   Rs 29,999.00\n",
      "8               iTel A26 2GB 32GB   Rs 25,999.00\n",
      "9            Sparx Neo 7 3GB 64GB   Rs 22,499.00\n",
      "10           Sparx Neo 5 2GB 32GB   Rs 24,499.00\n",
      "11            VNUS Sky 1 2GB 32GB   Rs 21,499.00\n",
      "12         Digit Glory 1 2GB 32GB   Rs 23,499.00\n",
      "13             VNUS SE22 3GB 64GB   Rs 16,999.00\n",
      "14            Itel A60S 4GB 128GB   Rs 17,499.00\n",
      "15                    iTel It9010   Rs 27,999.00\n",
      "16                 iTel Value 110    Rs 2,999.00\n",
      "17   Oneplus 10 Pro 5G 12GB 256GB  Rs 189,999.00\n",
      "18   Oneplus 10 Pro 5G 12GB 512GB  Rs 198,999.00\n",
      "19       Google Pixel 6 8GB 128GB   Rs 34,999.00\n",
      "20          Dcode Bold 2 4GB 64GB  Rs 249,999.00\n",
      "21       Google Pixel 7 8GB 128GB  Rs 259,999.00\n",
      "22             Google Pixel 7 Pro   Rs 23,999.00\n",
      "23          iTel P17 Pro 2GB 32GB   Rs 32,999.00\n",
      "24                  iTel Vision 3    Rs 3,999.00\n",
      "25                iTel IT9010 4G     Rs 2,999.00\n",
      "26                 iTel Value 100    Rs 4,599.00\n",
      "27                 iTel Muzik 400    Rs 4,299.00\n",
      "28             iTel Muzik 410 Pro   Rs 20,999.00\n",
      "29             Redmi A2+ 3GB 64GB   Rs 22,999.00\n",
      "30     Xiaomi Redmi 12C 4GB 128GB   Rs 26,799.00\n",
      "31  Samsung Galaxy A04s 4GB 128GB   Rs 33,999.00\n"
     ]
    }
   ],
   "source": [
    "dfs = pd.DataFrame(shophive_data, columns = [\"Product Name\", \"Product Price\"])\n",
    "print(dfs)"
   ]
  },
  {
   "cell_type": "code",
   "execution_count": 5,
   "id": "31e3bcb2",
   "metadata": {},
   "outputs": [],
   "source": [
    "writer_s = pd.ExcelWriter('shophive_data.xlsx')\n",
    "dfs.to_excel(writer_s,'Sheet1')\n",
    "writer_s.save()"
   ]
  },
  {
   "cell_type": "code",
   "execution_count": 6,
   "id": "687b754d",
   "metadata": {},
   "outputs": [
    {
     "name": "stdout",
     "output_type": "stream",
     "text": [
      "<class 'pandas.core.frame.DataFrame'>\n",
      "RangeIndex: 32 entries, 0 to 31\n",
      "Data columns (total 2 columns):\n",
      " #   Column         Non-Null Count  Dtype \n",
      "---  ------         --------------  ----- \n",
      " 0   Product Name   32 non-null     object\n",
      " 1   Product Price  32 non-null     object\n",
      "dtypes: object(2)\n",
      "memory usage: 640.0+ bytes\n"
     ]
    }
   ],
   "source": [
    "dfs.info()"
   ]
  },
  {
   "cell_type": "code",
   "execution_count": 7,
   "id": "7db23315",
   "metadata": {},
   "outputs": [
    {
     "data": {
      "text/html": [
       "<div>\n",
       "<style scoped>\n",
       "    .dataframe tbody tr th:only-of-type {\n",
       "        vertical-align: middle;\n",
       "    }\n",
       "\n",
       "    .dataframe tbody tr th {\n",
       "        vertical-align: top;\n",
       "    }\n",
       "\n",
       "    .dataframe thead th {\n",
       "        text-align: right;\n",
       "    }\n",
       "</style>\n",
       "<table border=\"1\" class=\"dataframe\">\n",
       "  <thead>\n",
       "    <tr style=\"text-align: right;\">\n",
       "      <th></th>\n",
       "      <th>Product Name</th>\n",
       "      <th>Product Price</th>\n",
       "    </tr>\n",
       "  </thead>\n",
       "  <tbody>\n",
       "    <tr>\n",
       "      <th>0</th>\n",
       "      <td>Infinix Note 30 VIP 8GB 256GB</td>\n",
       "      <td>Rs 33,999.00</td>\n",
       "    </tr>\n",
       "    <tr>\n",
       "      <th>1</th>\n",
       "      <td>iTel S23 8GB 256GB</td>\n",
       "      <td>Rs 29,999.00</td>\n",
       "    </tr>\n",
       "    <tr>\n",
       "      <th>2</th>\n",
       "      <td>iTel S23 8GB 128GB</td>\n",
       "      <td>Rs 30,999.00</td>\n",
       "    </tr>\n",
       "    <tr>\n",
       "      <th>3</th>\n",
       "      <td>ZTE Blade A51 2GB 64GB</td>\n",
       "      <td>Rs 21,999.00</td>\n",
       "    </tr>\n",
       "    <tr>\n",
       "      <th>4</th>\n",
       "      <td>Honor X6 4GB 64GB</td>\n",
       "      <td>Rs 34,999.00</td>\n",
       "    </tr>\n",
       "  </tbody>\n",
       "</table>\n",
       "</div>"
      ],
      "text/plain": [
       "                    Product Name Product Price\n",
       "0  Infinix Note 30 VIP 8GB 256GB  Rs 33,999.00\n",
       "1             iTel S23 8GB 256GB  Rs 29,999.00\n",
       "2             iTel S23 8GB 128GB  Rs 30,999.00\n",
       "3         ZTE Blade A51 2GB 64GB  Rs 21,999.00\n",
       "4              Honor X6 4GB 64GB  Rs 34,999.00"
      ]
     },
     "execution_count": 7,
     "metadata": {},
     "output_type": "execute_result"
    }
   ],
   "source": [
    "dfs.head()"
   ]
  },
  {
   "cell_type": "code",
   "execution_count": 8,
   "id": "4ea81c70",
   "metadata": {},
   "outputs": [
    {
     "data": {
      "text/html": [
       "<div>\n",
       "<style scoped>\n",
       "    .dataframe tbody tr th:only-of-type {\n",
       "        vertical-align: middle;\n",
       "    }\n",
       "\n",
       "    .dataframe tbody tr th {\n",
       "        vertical-align: top;\n",
       "    }\n",
       "\n",
       "    .dataframe thead th {\n",
       "        text-align: right;\n",
       "    }\n",
       "</style>\n",
       "<table border=\"1\" class=\"dataframe\">\n",
       "  <thead>\n",
       "    <tr style=\"text-align: right;\">\n",
       "      <th></th>\n",
       "      <th>Product Name</th>\n",
       "      <th>Product Price</th>\n",
       "    </tr>\n",
       "  </thead>\n",
       "  <tbody>\n",
       "    <tr>\n",
       "      <th>27</th>\n",
       "      <td>iTel Muzik 400</td>\n",
       "      <td>Rs 4,299.00</td>\n",
       "    </tr>\n",
       "    <tr>\n",
       "      <th>28</th>\n",
       "      <td>iTel Muzik 410 Pro</td>\n",
       "      <td>Rs 20,999.00</td>\n",
       "    </tr>\n",
       "    <tr>\n",
       "      <th>29</th>\n",
       "      <td>Redmi A2+ 3GB 64GB</td>\n",
       "      <td>Rs 22,999.00</td>\n",
       "    </tr>\n",
       "    <tr>\n",
       "      <th>30</th>\n",
       "      <td>Xiaomi Redmi 12C 4GB 128GB</td>\n",
       "      <td>Rs 26,799.00</td>\n",
       "    </tr>\n",
       "    <tr>\n",
       "      <th>31</th>\n",
       "      <td>Samsung Galaxy A04s 4GB 128GB</td>\n",
       "      <td>Rs 33,999.00</td>\n",
       "    </tr>\n",
       "  </tbody>\n",
       "</table>\n",
       "</div>"
      ],
      "text/plain": [
       "                     Product Name Product Price\n",
       "27                 iTel Muzik 400   Rs 4,299.00\n",
       "28             iTel Muzik 410 Pro  Rs 20,999.00\n",
       "29             Redmi A2+ 3GB 64GB  Rs 22,999.00\n",
       "30     Xiaomi Redmi 12C 4GB 128GB  Rs 26,799.00\n",
       "31  Samsung Galaxy A04s 4GB 128GB  Rs 33,999.00"
      ]
     },
     "execution_count": 8,
     "metadata": {},
     "output_type": "execute_result"
    }
   ],
   "source": [
    "dfs.tail()"
   ]
  },
  {
   "cell_type": "code",
   "execution_count": 9,
   "id": "f2e46d2b",
   "metadata": {},
   "outputs": [
    {
     "data": {
      "text/plain": [
       "dtype('O')"
      ]
     },
     "execution_count": 9,
     "metadata": {},
     "output_type": "execute_result"
    }
   ],
   "source": [
    "dfs[\"Product Price\"].dtype"
   ]
  },
  {
   "cell_type": "code",
   "execution_count": 10,
   "id": "05c431e2",
   "metadata": {},
   "outputs": [],
   "source": [
    "column_name = \"Product Price\"\n",
    "dfs[column_name] = dfs[column_name].str.replace('Rs', '').str.replace(',', '', regex=True).astype(float)"
   ]
  },
  {
   "cell_type": "code",
   "execution_count": 11,
   "id": "fe5cad4a",
   "metadata": {},
   "outputs": [
    {
     "data": {
      "text/plain": [
       "dtype('float64')"
      ]
     },
     "execution_count": 11,
     "metadata": {},
     "output_type": "execute_result"
    }
   ],
   "source": [
    "dfs[\"Product Price\"].dtype"
   ]
  },
  {
   "cell_type": "code",
   "execution_count": null,
   "id": "7a2d6b08",
   "metadata": {},
   "outputs": [],
   "source": []
  },
  {
   "cell_type": "markdown",
   "id": "08021cec",
   "metadata": {},
   "source": [
    "# Experiments"
   ]
  },
  {
   "cell_type": "code",
   "execution_count": 15,
   "id": "a9e76d4d",
   "metadata": {},
   "outputs": [
    {
     "name": "stdout",
     "output_type": "stream",
     "text": [
      "32\n"
     ]
    }
   ],
   "source": [
    "print(len(names))"
   ]
  },
  {
   "cell_type": "code",
   "execution_count": 2,
   "id": "e4c2ae58",
   "metadata": {},
   "outputs": [
    {
     "name": "stdout",
     "output_type": "stream",
     "text": [
      "https://www.naheed.pk/tv-home-appliances/kitchen-appliances\n"
     ]
    }
   ],
   "source": [
    "url = \"https://www.naheed.pk/tv-home-appliances/kitchen-appliances\"\n",
    "print(url)"
   ]
  },
  {
   "cell_type": "code",
   "execution_count": 4,
   "id": "80e51ada",
   "metadata": {},
   "outputs": [
    {
     "name": "stdout",
     "output_type": "stream",
     "text": [
      "<Response [200]>\n"
     ]
    }
   ],
   "source": [
    "r = requests.get(url)\n",
    "print(r)\n",
    "\n",
    "soup = BeautifulSoup(r.text,\"lxml\")\n",
    "#print(soup)"
   ]
  },
  {
   "cell_type": "code",
   "execution_count": 5,
   "id": "90714769",
   "metadata": {},
   "outputs": [
    {
     "name": "stdout",
     "output_type": "stream",
     "text": [
      "Gaba National 2-In-1 Blender & Grinder, 350W, GN-2817\n",
      "Philips Food Processor, 800W, HR7510/00\n",
      "Panasonic Stand Mixer, 175W, White, MK-GH3\n",
      "DeLonghi Dedica Coffee Grinder, KG-520.M\n",
      "Panasonic Blender, 600W, Black, MX-SS40\n",
      "DeLonghi Stainless Steel Conical Burr Coffee Grinder, KG-521.M\n",
      "Philips Daily Collection Juicer, 300W, HR-1811/71\n",
      "Panasonic Chef Kitchen Machine, 1000W, MK-CM300\n",
      "Braun Minipimer-7 Hand Blender, MQ-7035X\n",
      "Philips 3000 Series Pres Cooker, 1300W, 6 Liters, HR-2237/73\n",
      "Philips Viva Collection 800W, 2 Liters, HR-1855/70\n",
      "Panasonic Juicer/Blender, 1000W, S(Silver) MJ-CB800STN\n",
      "West Point Deluxe Easy Air Fryer, XL WF-4257 (With FREE Cordless Kettle)\n",
      "Nespresso Creatista Plus Machine, CP-PK-Aluminum-IL-NE (BNE800)\n",
      "Nespresso Zenius Pro Machine, Matt Black, 9737\n",
      "Nespresso Creatista Pro Machine, CP-PK-Aluminum-IL-NE (SNE900)\n",
      "Nespresso Citiz & Milk Mechine, Red, XN7615.21\n",
      "Nespresso Aeroccino 3 Milk Frother, 3694-EU-WH\n",
      "Nespresso Citiz & Milk Machine, Black, EN267.BAE\n",
      "Nespresso Citiz Mechine, Black, D113-EU-BK-NE2\n",
      "Nespresso Gran Lattissima Machine, EN640.B\n",
      "Nespresso Gran Lattissima Machine, F531-ME-WH-NE\n",
      "Sayona Hand Mixer With Rotating Bowl, 4 Liters, 250-300W, SHM-4358\n",
      "Sanford Meat Grinder, 2500W, SF5856MG\n",
      "Braun Tribute Collection Citrus Juicer, Black, CJ-3000BK\n",
      "Kenwood Blender, 2 Liters, 500W, BLP-15.150WH\n",
      "Gaba National Hot & Cold-Water Dispenser, Black, GND-0919\n",
      "Gaba National Multifunctional Electric Frying Pan, 1500W, GN-143/22\n",
      "Sanford Food Steamer, 1000W, SF-5754FS\n",
      "Sanford Air Fryer Oven, 1700W, 22 Liters, SF-5612EO\n",
      "Nikai Toaster With 7 Detachable Plates, 750W, NGT-727D\n",
      "Panasonic Food Processor 9-In-1, 800W, K-Black, MK-F510KTZ\n"
     ]
    }
   ],
   "source": [
    "names = soup.find_all(\"a\",class_ = \"product-item-link\")\n",
    "titles = [a['title'] for a in names]\n",
    "\n",
    "for title in titles:\n",
    "    print(title)"
   ]
  },
  {
   "cell_type": "code",
   "execution_count": null,
   "id": "a2751216",
   "metadata": {},
   "outputs": [],
   "source": [
    "csv_file2 = \"product_data_shophive.csv\"\n",
    "with open(csv_file2, 'w', newline='') as csvfile:\n",
    "    fieldnames = [\"Product Name\", \"Product Price\"]\n",
    "    writer2 = csv.DictWriter(csvfile, fieldnames=fieldnames)\n",
    "\n",
    "    writer2.writeheader()  # Write the header row\n",
    "    for row in data:\n",
    "        writer2.writerow(row)  # Write data rows"
   ]
  },
  {
   "cell_type": "code",
   "execution_count": null,
   "id": "52882abc",
   "metadata": {},
   "outputs": [],
   "source": [
    "csv_file = \"product_data_naheed.csv\"\n",
    "with open(csv_file, 'w', newline='') as csvfile:\n",
    "    fieldnames = [\"Product Name\", \"Product Price\"]\n",
    "    writer = csv.DictWriter(csvfile, fieldnames=fieldnames)\n",
    "\n",
    "    writer.writeheader()  # Write the header row\n",
    "    for row in data:\n",
    "        writer.writerow(row)  # Write data rows"
   ]
  }
 ],
 "metadata": {
  "kernelspec": {
   "display_name": "Python 3 (ipykernel)",
   "language": "python",
   "name": "python3"
  },
  "language_info": {
   "codemirror_mode": {
    "name": "ipython",
    "version": 3
   },
   "file_extension": ".py",
   "mimetype": "text/x-python",
   "name": "python",
   "nbconvert_exporter": "python",
   "pygments_lexer": "ipython3",
   "version": "3.9.7"
  }
 },
 "nbformat": 4,
 "nbformat_minor": 5
}
