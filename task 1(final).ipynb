{
 "cells": [
  {
   "cell_type": "markdown",
   "id": "84b5f62a",
   "metadata": {},
   "source": [
    "# Libraries"
   ]
  },
  {
   "cell_type": "code",
   "execution_count": 1,
   "id": "ccb65875",
   "metadata": {},
   "outputs": [],
   "source": [
    "from bs4 import BeautifulSoup\n",
    "import pandas as pd\n",
    "import requests\n",
    "import csv\n",
    "import re"
   ]
  },
  {
   "cell_type": "markdown",
   "id": "726de507",
   "metadata": {},
   "source": [
    "# Naheed Scraping"
   ]
  },
  {
   "cell_type": "code",
   "execution_count": 35,
   "id": "64811758",
   "metadata": {},
   "outputs": [
    {
     "name": "stdout",
     "output_type": "stream",
     "text": [
      "Product Name: Xiaomi Redmi Note 12S 8GB/256GB Smart Phone, Onyx Black\n",
      "Product Price: Rs. 74,999.00\n",
      "Product Name: Samsung Galaxy A34 5G 8/256GB Smart Phone, Awesome Silver\n",
      "Product Price: Rs. 114,999.00\n",
      "Product Name: Samsung Galaxy A24 8/128GB, Light Green, Mobile Set\n",
      "Product Price: Rs. 79,999.00\n",
      "Product Name: Xiaomi Redmi Note 12 8/128GB Smart Phone, Ice Blue\n",
      "Product Price: Rs. 54,999.00\n",
      "Product Name: Samsung Galaxy A34 5G 8/256GB Smart Phone, Awesome Graphite\n",
      "Product Price: Rs. 114,999.00\n",
      "Product Name: Samsung Galaxy A54 5G 8/256GB, Awesome White, Mobile Set\n",
      "Product Price: Rs. 140,999.00\n",
      "Product Name: Xiaomi Redmi Note 12 8/128GB, Onyx Gray, Mobile Set\n",
      "Product Price: Rs. 54,999.00\n",
      "Product Name: Xiaomi Redmi 12C 4/128GB, Graphite Gray, Mobile Set\n",
      "Product Price: Rs. 27,999.00\n",
      "Product Name: Samsung Galaxy A04S 4/128GB Smart Phone, Copper\n",
      "Product Price: Rs. 43,999.00\n",
      "Product Name: Xiaomi Redmi 12C 4/128GB, Ocean Blue, Mobile Set\n",
      "Product Price: Rs. 27,999.00\n",
      "Product Name: Xiaomi Redmi 12C 4/128GB Mobile Set, Mint Green\n",
      "Product Price: Rs. 27,999.00\n",
      "Product Name: Samsung Galaxy A54 5G 8/256GB Mobile Set, Awesome Graphite\n",
      "Product Price: Rs. 140,999.00\n",
      "Product Name: Samsung Galaxy Z Fold 4 12GB/256GB Smartphone, Gray Green \n",
      "Product Price: Rs. 540,000.00\n",
      "Product Name: Samsung Galaxy Z Flip 4 8GB/512GB Smartphone, Blue \n",
      "Product Price: Rs. 367,000.00\n",
      "Product Name: Samsung Galaxy Z Flip 4 8GB/256GB Smartphone, Blue \n",
      "Product Price: Rs. 333,000.00\n",
      "Product Name: Samsung Galaxy S22 Ultra 12GB/256GB Smartphone, Green\n",
      "Product Price: Rs. 425,000.00\n",
      "Product Name: Samsung Galaxy Z Flip 4 8GB/512GB Smartphone, Grey \n",
      "Product Price: Rs. 367,000.00\n",
      "Product Name: Samsung Galaxy Z Flip 4 8GB/256GB Smartphone, Purple \n",
      "Product Price: Rs. 333,000.00\n",
      "Product Name: Samsung Galaxy Z Fold 4 12GB/512GB Smartphone, Phantom Black \n",
      "Product Price: Rs. 575,000.00\n",
      "Product Name: Xiaomi Redmi Note 12S 8GB/256GB Smart Phone, Onyx Black\n",
      "Product Price: Rs. 74,999.00\n",
      "Product Name: Samsung Galaxy A34 5G 8/256GB Smart Phone, Awesome Silver\n",
      "Product Price: Rs. 114,999.00\n",
      "Product Name: Samsung Galaxy A24 8/128GB, Light Green, Mobile Set\n",
      "Product Price: Rs. 79,999.00\n",
      "Product Name: Xiaomi Redmi Note 12 8/128GB Smart Phone, Ice Blue\n",
      "Product Price: Rs. 54,999.00\n",
      "Product Name: Samsung Galaxy A34 5G 8/256GB Smart Phone, Awesome Graphite\n",
      "Product Price: Rs. 114,999.00\n",
      "Product Name: Samsung Galaxy A54 5G 8/256GB, Awesome White, Mobile Set\n",
      "Product Price: Rs. 140,999.00\n",
      "Product Name: Xiaomi Redmi Note 12 8/128GB, Onyx Gray, Mobile Set\n",
      "Product Price: Rs. 54,999.00\n",
      "Product Name: Xiaomi Redmi 12C 4/128GB, Graphite Gray, Mobile Set\n",
      "Product Price: Rs. 27,999.00\n",
      "Product Name: Samsung Galaxy A04S 4/128GB Smart Phone, Copper\n",
      "Product Price: Rs. 43,999.00\n",
      "Product Name: Xiaomi Redmi 12C 4/128GB, Ocean Blue, Mobile Set\n",
      "Product Price: Rs. 27,999.00\n",
      "Product Name: Xiaomi Redmi 12C 4/128GB Mobile Set, Mint Green\n",
      "Product Price: Rs. 27,999.00\n",
      "Product Name: Samsung Galaxy A54 5G 8/256GB Mobile Set, Awesome Graphite\n",
      "Product Price: Rs. 140,999.00\n",
      "Product Name: Samsung Galaxy Z Fold 4 12GB/256GB Smartphone, Gray Green \n",
      "Product Price: Rs. 540,000.00\n",
      "Product Name: Samsung Galaxy Z Flip 4 8GB/512GB Smartphone, Blue \n",
      "Product Price: Rs. 367,000.00\n",
      "Product Name: Samsung Galaxy Z Flip 4 8GB/256GB Smartphone, Blue \n",
      "Product Price: Rs. 333,000.00\n",
      "Product Name: Samsung Galaxy S22 Ultra 12GB/256GB Smartphone, Green\n",
      "Product Price: Rs. 425,000.00\n",
      "Product Name: Samsung Galaxy Z Flip 4 8GB/512GB Smartphone, Grey \n",
      "Product Price: Rs. 367,000.00\n",
      "Product Name: Samsung Galaxy Z Flip 4 8GB/256GB Smartphone, Purple \n",
      "Product Price: Rs. 333,000.00\n",
      "Product Name: Samsung Galaxy Z Fold 4 12GB/512GB Smartphone, Phantom Black \n",
      "Product Price: Rs. 575,000.00\n",
      "Product Name: Xiaomi Redmi Note 12S 8GB/256GB Smart Phone, Onyx Black\n",
      "Product Price: Rs. 74,999.00\n",
      "Product Name: Samsung Galaxy A34 5G 8/256GB Smart Phone, Awesome Silver\n",
      "Product Price: Rs. 114,999.00\n",
      "Product Name: Samsung Galaxy A24 8/128GB, Light Green, Mobile Set\n",
      "Product Price: Rs. 79,999.00\n",
      "Product Name: Xiaomi Redmi Note 12 8/128GB Smart Phone, Ice Blue\n",
      "Product Price: Rs. 54,999.00\n",
      "Product Name: Samsung Galaxy A34 5G 8/256GB Smart Phone, Awesome Graphite\n",
      "Product Price: Rs. 114,999.00\n",
      "Product Name: Samsung Galaxy A54 5G 8/256GB, Awesome White, Mobile Set\n",
      "Product Price: Rs. 140,999.00\n",
      "Product Name: Xiaomi Redmi Note 12 8/128GB, Onyx Gray, Mobile Set\n",
      "Product Price: Rs. 54,999.00\n",
      "Product Name: Xiaomi Redmi 12C 4/128GB, Graphite Gray, Mobile Set\n",
      "Product Price: Rs. 27,999.00\n",
      "Product Name: Samsung Galaxy A04S 4/128GB Smart Phone, Copper\n",
      "Product Price: Rs. 43,999.00\n",
      "Product Name: Xiaomi Redmi 12C 4/128GB, Ocean Blue, Mobile Set\n",
      "Product Price: Rs. 27,999.00\n",
      "Product Name: Xiaomi Redmi 12C 4/128GB Mobile Set, Mint Green\n",
      "Product Price: Rs. 27,999.00\n",
      "Product Name: Samsung Galaxy A54 5G 8/256GB Mobile Set, Awesome Graphite\n",
      "Product Price: Rs. 140,999.00\n",
      "Product Name: Samsung Galaxy Z Fold 4 12GB/256GB Smartphone, Gray Green \n",
      "Product Price: Rs. 540,000.00\n",
      "Product Name: Samsung Galaxy Z Flip 4 8GB/512GB Smartphone, Blue \n",
      "Product Price: Rs. 367,000.00\n",
      "Product Name: Samsung Galaxy Z Flip 4 8GB/256GB Smartphone, Blue \n",
      "Product Price: Rs. 333,000.00\n",
      "Product Name: Samsung Galaxy S22 Ultra 12GB/256GB Smartphone, Green\n",
      "Product Price: Rs. 425,000.00\n",
      "Product Name: Samsung Galaxy Z Flip 4 8GB/512GB Smartphone, Grey \n",
      "Product Price: Rs. 367,000.00\n",
      "Product Name: Samsung Galaxy Z Flip 4 8GB/256GB Smartphone, Purple \n",
      "Product Price: Rs. 333,000.00\n",
      "Product Name: Samsung Galaxy Z Fold 4 12GB/512GB Smartphone, Phantom Black \n",
      "Product Price: Rs. 575,000.00\n",
      "Product Name: Xiaomi Redmi Note 12S 8GB/256GB Smart Phone, Onyx Black\n",
      "Product Price: Rs. 74,999.00\n",
      "Product Name: Samsung Galaxy A34 5G 8/256GB Smart Phone, Awesome Silver\n",
      "Product Price: Rs. 114,999.00\n",
      "Product Name: Samsung Galaxy A24 8/128GB, Light Green, Mobile Set\n",
      "Product Price: Rs. 79,999.00\n",
      "Product Name: Xiaomi Redmi Note 12 8/128GB Smart Phone, Ice Blue\n",
      "Product Price: Rs. 54,999.00\n",
      "Product Name: Samsung Galaxy A34 5G 8/256GB Smart Phone, Awesome Graphite\n",
      "Product Price: Rs. 114,999.00\n",
      "Product Name: Samsung Galaxy A54 5G 8/256GB, Awesome White, Mobile Set\n",
      "Product Price: Rs. 140,999.00\n",
      "Product Name: Xiaomi Redmi Note 12 8/128GB, Onyx Gray, Mobile Set\n",
      "Product Price: Rs. 54,999.00\n",
      "Product Name: Xiaomi Redmi 12C 4/128GB, Graphite Gray, Mobile Set\n",
      "Product Price: Rs. 27,999.00\n",
      "Product Name: Samsung Galaxy A04S 4/128GB Smart Phone, Copper\n",
      "Product Price: Rs. 43,999.00\n",
      "Product Name: Xiaomi Redmi 12C 4/128GB, Ocean Blue, Mobile Set\n",
      "Product Price: Rs. 27,999.00\n",
      "Product Name: Xiaomi Redmi 12C 4/128GB Mobile Set, Mint Green\n",
      "Product Price: Rs. 27,999.00\n",
      "Product Name: Samsung Galaxy A54 5G 8/256GB Mobile Set, Awesome Graphite\n",
      "Product Price: Rs. 140,999.00\n",
      "Product Name: Samsung Galaxy Z Fold 4 12GB/256GB Smartphone, Gray Green \n",
      "Product Price: Rs. 540,000.00\n",
      "Product Name: Samsung Galaxy Z Flip 4 8GB/512GB Smartphone, Blue \n",
      "Product Price: Rs. 367,000.00\n",
      "Product Name: Samsung Galaxy Z Flip 4 8GB/256GB Smartphone, Blue \n",
      "Product Price: Rs. 333,000.00\n",
      "Product Name: Samsung Galaxy S22 Ultra 12GB/256GB Smartphone, Green\n",
      "Product Price: Rs. 425,000.00\n",
      "Product Name: Samsung Galaxy Z Flip 4 8GB/512GB Smartphone, Grey \n",
      "Product Price: Rs. 367,000.00\n",
      "Product Name: Samsung Galaxy Z Flip 4 8GB/256GB Smartphone, Purple \n",
      "Product Price: Rs. 333,000.00\n",
      "Product Name: Samsung Galaxy Z Fold 4 12GB/512GB Smartphone, Phantom Black \n",
      "Product Price: Rs. 575,000.00\n",
      "Product Name: Xiaomi Redmi Note 12S 8GB/256GB Smart Phone, Onyx Black\n",
      "Product Price: Rs. 74,999.00\n",
      "Product Name: Samsung Galaxy A34 5G 8/256GB Smart Phone, Awesome Silver\n",
      "Product Price: Rs. 114,999.00\n",
      "Product Name: Samsung Galaxy A24 8/128GB, Light Green, Mobile Set\n",
      "Product Price: Rs. 79,999.00\n",
      "Product Name: Xiaomi Redmi Note 12 8/128GB Smart Phone, Ice Blue\n",
      "Product Price: Rs. 54,999.00\n",
      "Product Name: Samsung Galaxy A34 5G 8/256GB Smart Phone, Awesome Graphite\n",
      "Product Price: Rs. 114,999.00\n",
      "Product Name: Samsung Galaxy A54 5G 8/256GB, Awesome White, Mobile Set\n",
      "Product Price: Rs. 140,999.00\n",
      "Product Name: Xiaomi Redmi Note 12 8/128GB, Onyx Gray, Mobile Set\n",
      "Product Price: Rs. 54,999.00\n",
      "Product Name: Xiaomi Redmi 12C 4/128GB, Graphite Gray, Mobile Set\n",
      "Product Price: Rs. 27,999.00\n",
      "Product Name: Samsung Galaxy A04S 4/128GB Smart Phone, Copper\n",
      "Product Price: Rs. 43,999.00\n",
      "Product Name: Xiaomi Redmi 12C 4/128GB, Ocean Blue, Mobile Set\n",
      "Product Price: Rs. 27,999.00\n",
      "Product Name: Xiaomi Redmi 12C 4/128GB Mobile Set, Mint Green\n",
      "Product Price: Rs. 27,999.00\n",
      "Product Name: Samsung Galaxy A54 5G 8/256GB Mobile Set, Awesome Graphite\n",
      "Product Price: Rs. 140,999.00\n",
      "Product Name: Samsung Galaxy Z Fold 4 12GB/256GB Smartphone, Gray Green \n",
      "Product Price: Rs. 540,000.00\n",
      "Product Name: Samsung Galaxy Z Flip 4 8GB/512GB Smartphone, Blue \n",
      "Product Price: Rs. 367,000.00\n",
      "Product Name: Samsung Galaxy Z Flip 4 8GB/256GB Smartphone, Blue \n",
      "Product Price: Rs. 333,000.00\n",
      "Product Name: Samsung Galaxy S22 Ultra 12GB/256GB Smartphone, Green\n",
      "Product Price: Rs. 425,000.00\n",
      "Product Name: Samsung Galaxy Z Flip 4 8GB/512GB Smartphone, Grey \n",
      "Product Price: Rs. 367,000.00\n",
      "Product Name: Samsung Galaxy Z Flip 4 8GB/256GB Smartphone, Purple \n",
      "Product Price: Rs. 333,000.00\n",
      "Product Name: Samsung Galaxy Z Fold 4 12GB/512GB Smartphone, Phantom Black \n",
      "Product Price: Rs. 575,000.00\n"
     ]
    }
   ],
   "source": [
    "naheed_data= []\n",
    "for i in range(1,6):\n",
    "    \n",
    "    url = \"https://www.naheed.pk/phones-tablets/smartphones?p=\"+str(i)\n",
    "    r = requests.get(url)\n",
    "\n",
    "    soup = BeautifulSoup(r.text,\"lxml\")\n",
    "    \n",
    "    names = soup.find_all(\"a\",class_ = \"product-item-link\")\n",
    "    titles = [a['title'] for a in names]\n",
    "    prices = soup.find_all(\"span\", class_=\"price\")\n",
    "    \n",
    "    for name, price in zip(names, prices):\n",
    "        product_name = name['title']\n",
    "        price_text = price.text\n",
    "        print(f\"Product Name: {product_name}\")\n",
    "        print(f\"Product Price: {price_text}\")\n",
    "        naheed_data.append({\"Product Name\": product_name, \"Product Price\": price_text})\n"
   ]
  },
  {
   "cell_type": "markdown",
   "id": "e74f1e4c",
   "metadata": {},
   "source": [
    "# Saving Naheed Data in excel"
   ]
  },
  {
   "cell_type": "code",
   "execution_count": 36,
   "id": "60d9dea3",
   "metadata": {},
   "outputs": [
    {
     "name": "stdout",
     "output_type": "stream",
     "text": [
      "                                         Product Name   Product Price\n",
      "0   Xiaomi Redmi Note 12S 8GB/256GB Smart Phone, O...   Rs. 74,999.00\n",
      "1   Samsung Galaxy A34 5G 8/256GB Smart Phone, Awe...  Rs. 114,999.00\n",
      "2   Samsung Galaxy A24 8/128GB, Light Green, Mobil...   Rs. 79,999.00\n",
      "3   Xiaomi Redmi Note 12 8/128GB Smart Phone, Ice ...   Rs. 54,999.00\n",
      "4   Samsung Galaxy A34 5G 8/256GB Smart Phone, Awe...  Rs. 114,999.00\n",
      "..                                                ...             ...\n",
      "90  Samsung Galaxy Z Flip 4 8GB/256GB Smartphone, ...  Rs. 333,000.00\n",
      "91  Samsung Galaxy S22 Ultra 12GB/256GB Smartphone...  Rs. 425,000.00\n",
      "92  Samsung Galaxy Z Flip 4 8GB/512GB Smartphone, ...  Rs. 367,000.00\n",
      "93  Samsung Galaxy Z Flip 4 8GB/256GB Smartphone, ...  Rs. 333,000.00\n",
      "94  Samsung Galaxy Z Fold 4 12GB/512GB Smartphone,...  Rs. 575,000.00\n",
      "\n",
      "[95 rows x 2 columns]\n"
     ]
    }
   ],
   "source": [
    "df_n = pd.DataFrame(naheed_data, columns = [\"Product Name\", \"Product Price\"])\n",
    "print(df_n)"
   ]
  },
  {
   "cell_type": "code",
   "execution_count": 37,
   "id": "9c7685e1",
   "metadata": {},
   "outputs": [],
   "source": [
    "writer_n = pd.ExcelWriter('naheed_data.xlsx')\n",
    "df_n.to_excel(writer_n,'Sheet1')\n",
    "writer_n.save()"
   ]
  },
  {
   "cell_type": "markdown",
   "id": "e970bddd",
   "metadata": {},
   "source": [
    "# Naheed Data Cleaning"
   ]
  },
  {
   "cell_type": "code",
   "execution_count": 5,
   "id": "45bfa1cd",
   "metadata": {},
   "outputs": [
    {
     "data": {
      "text/plain": [
       "<bound method DataFrame.info of                                          Product Name   Product Price\n",
       "0   Xiaomi Redmi Note 12S 8GB/256GB Smart Phone, O...   Rs. 74,999.00\n",
       "1   Samsung Galaxy A34 5G 8/256GB Smart Phone, Awe...  Rs. 114,999.00\n",
       "2   Samsung Galaxy A24 8/128GB, Light Green, Mobil...   Rs. 79,999.00\n",
       "3   Xiaomi Redmi Note 12 8/128GB Smart Phone, Ice ...   Rs. 54,999.00\n",
       "4   Samsung Galaxy A34 5G 8/256GB Smart Phone, Awe...  Rs. 114,999.00\n",
       "..                                                ...             ...\n",
       "90  Samsung Galaxy Z Flip 4 8GB/256GB Smartphone, ...  Rs. 333,000.00\n",
       "91  Samsung Galaxy S22 Ultra 12GB/256GB Smartphone...  Rs. 425,000.00\n",
       "92  Samsung Galaxy Z Flip 4 8GB/512GB Smartphone, ...  Rs. 367,000.00\n",
       "93  Samsung Galaxy Z Flip 4 8GB/256GB Smartphone, ...  Rs. 333,000.00\n",
       "94  Samsung Galaxy Z Fold 4 12GB/512GB Smartphone,...  Rs. 575,000.00\n",
       "\n",
       "[95 rows x 2 columns]>"
      ]
     },
     "execution_count": 5,
     "metadata": {},
     "output_type": "execute_result"
    }
   ],
   "source": [
    "df_n.info"
   ]
  },
  {
   "cell_type": "code",
   "execution_count": 6,
   "id": "742db3f5",
   "metadata": {},
   "outputs": [
    {
     "data": {
      "text/html": [
       "<div>\n",
       "<style scoped>\n",
       "    .dataframe tbody tr th:only-of-type {\n",
       "        vertical-align: middle;\n",
       "    }\n",
       "\n",
       "    .dataframe tbody tr th {\n",
       "        vertical-align: top;\n",
       "    }\n",
       "\n",
       "    .dataframe thead th {\n",
       "        text-align: right;\n",
       "    }\n",
       "</style>\n",
       "<table border=\"1\" class=\"dataframe\">\n",
       "  <thead>\n",
       "    <tr style=\"text-align: right;\">\n",
       "      <th></th>\n",
       "      <th>Product Name</th>\n",
       "      <th>Product Price</th>\n",
       "    </tr>\n",
       "  </thead>\n",
       "  <tbody>\n",
       "    <tr>\n",
       "      <th>0</th>\n",
       "      <td>Xiaomi Redmi Note 12S 8GB/256GB Smart Phone, O...</td>\n",
       "      <td>Rs. 74,999.00</td>\n",
       "    </tr>\n",
       "    <tr>\n",
       "      <th>1</th>\n",
       "      <td>Samsung Galaxy A34 5G 8/256GB Smart Phone, Awe...</td>\n",
       "      <td>Rs. 114,999.00</td>\n",
       "    </tr>\n",
       "    <tr>\n",
       "      <th>2</th>\n",
       "      <td>Samsung Galaxy A24 8/128GB, Light Green, Mobil...</td>\n",
       "      <td>Rs. 79,999.00</td>\n",
       "    </tr>\n",
       "    <tr>\n",
       "      <th>3</th>\n",
       "      <td>Xiaomi Redmi Note 12 8/128GB Smart Phone, Ice ...</td>\n",
       "      <td>Rs. 54,999.00</td>\n",
       "    </tr>\n",
       "    <tr>\n",
       "      <th>4</th>\n",
       "      <td>Samsung Galaxy A34 5G 8/256GB Smart Phone, Awe...</td>\n",
       "      <td>Rs. 114,999.00</td>\n",
       "    </tr>\n",
       "  </tbody>\n",
       "</table>\n",
       "</div>"
      ],
      "text/plain": [
       "                                        Product Name   Product Price\n",
       "0  Xiaomi Redmi Note 12S 8GB/256GB Smart Phone, O...   Rs. 74,999.00\n",
       "1  Samsung Galaxy A34 5G 8/256GB Smart Phone, Awe...  Rs. 114,999.00\n",
       "2  Samsung Galaxy A24 8/128GB, Light Green, Mobil...   Rs. 79,999.00\n",
       "3  Xiaomi Redmi Note 12 8/128GB Smart Phone, Ice ...   Rs. 54,999.00\n",
       "4  Samsung Galaxy A34 5G 8/256GB Smart Phone, Awe...  Rs. 114,999.00"
      ]
     },
     "execution_count": 6,
     "metadata": {},
     "output_type": "execute_result"
    }
   ],
   "source": [
    "df_n.head()"
   ]
  },
  {
   "cell_type": "code",
   "execution_count": 7,
   "id": "7284fa91",
   "metadata": {},
   "outputs": [
    {
     "data": {
      "text/plain": [
       "dtype('O')"
      ]
     },
     "execution_count": 7,
     "metadata": {},
     "output_type": "execute_result"
    }
   ],
   "source": [
    "df_n[\"Product Price\"].dtype"
   ]
  },
  {
   "cell_type": "code",
   "execution_count": 8,
   "id": "997bfc07",
   "metadata": {},
   "outputs": [
    {
     "name": "stderr",
     "output_type": "stream",
     "text": [
      "C:\\Users\\FIVEST~1\\AppData\\Local\\Temp/ipykernel_504/2044158852.py:2: FutureWarning: The default value of regex will change from True to False in a future version.\n",
      "  df_n[column_name] = df_n[column_name].str.replace('Rs.', '').str.replace(',', '', regex=True).astype(float)\n"
     ]
    }
   ],
   "source": [
    "column_name = \"Product Price\"\n",
    "df_n[column_name] = df_n[column_name].str.replace('Rs.', '').str.replace(',', '', regex=True).astype(float)"
   ]
  },
  {
   "cell_type": "code",
   "execution_count": 9,
   "id": "2416119f",
   "metadata": {},
   "outputs": [
    {
     "data": {
      "text/plain": [
       "dtype('float64')"
      ]
     },
     "execution_count": 9,
     "metadata": {},
     "output_type": "execute_result"
    }
   ],
   "source": [
    "df_n[\"Product Price\"].dtype"
   ]
  },
  {
   "cell_type": "code",
   "execution_count": 10,
   "id": "5af533d2",
   "metadata": {},
   "outputs": [
    {
     "data": {
      "text/html": [
       "<div>\n",
       "<style scoped>\n",
       "    .dataframe tbody tr th:only-of-type {\n",
       "        vertical-align: middle;\n",
       "    }\n",
       "\n",
       "    .dataframe tbody tr th {\n",
       "        vertical-align: top;\n",
       "    }\n",
       "\n",
       "    .dataframe thead th {\n",
       "        text-align: right;\n",
       "    }\n",
       "</style>\n",
       "<table border=\"1\" class=\"dataframe\">\n",
       "  <thead>\n",
       "    <tr style=\"text-align: right;\">\n",
       "      <th></th>\n",
       "      <th>Product Name</th>\n",
       "      <th>Product Price</th>\n",
       "    </tr>\n",
       "  </thead>\n",
       "  <tbody>\n",
       "    <tr>\n",
       "      <th>0</th>\n",
       "      <td>Xiaomi Redmi Note 12S 8GB/256GB Smart Phone, O...</td>\n",
       "      <td>74999.0</td>\n",
       "    </tr>\n",
       "    <tr>\n",
       "      <th>1</th>\n",
       "      <td>Samsung Galaxy A34 5G 8/256GB Smart Phone, Awe...</td>\n",
       "      <td>114999.0</td>\n",
       "    </tr>\n",
       "    <tr>\n",
       "      <th>2</th>\n",
       "      <td>Samsung Galaxy A24 8/128GB, Light Green, Mobil...</td>\n",
       "      <td>79999.0</td>\n",
       "    </tr>\n",
       "    <tr>\n",
       "      <th>3</th>\n",
       "      <td>Xiaomi Redmi Note 12 8/128GB Smart Phone, Ice ...</td>\n",
       "      <td>54999.0</td>\n",
       "    </tr>\n",
       "    <tr>\n",
       "      <th>4</th>\n",
       "      <td>Samsung Galaxy A34 5G 8/256GB Smart Phone, Awe...</td>\n",
       "      <td>114999.0</td>\n",
       "    </tr>\n",
       "  </tbody>\n",
       "</table>\n",
       "</div>"
      ],
      "text/plain": [
       "                                        Product Name  Product Price\n",
       "0  Xiaomi Redmi Note 12S 8GB/256GB Smart Phone, O...        74999.0\n",
       "1  Samsung Galaxy A34 5G 8/256GB Smart Phone, Awe...       114999.0\n",
       "2  Samsung Galaxy A24 8/128GB, Light Green, Mobil...        79999.0\n",
       "3  Xiaomi Redmi Note 12 8/128GB Smart Phone, Ice ...        54999.0\n",
       "4  Samsung Galaxy A34 5G 8/256GB Smart Phone, Awe...       114999.0"
      ]
     },
     "execution_count": 10,
     "metadata": {},
     "output_type": "execute_result"
    }
   ],
   "source": [
    "df_n.head()"
   ]
  },
  {
   "cell_type": "markdown",
   "id": "0dd79a7b",
   "metadata": {},
   "source": [
    "# Function for product name"
   ]
  },
  {
   "cell_type": "code",
   "execution_count": 11,
   "id": "4bd6b634",
   "metadata": {},
   "outputs": [
    {
     "name": "stdout",
     "output_type": "stream",
     "text": [
      "                           Product Name  Product Price\n",
      "0       xiaomi redmi note 12s 8gb 256gb        74999.0\n",
      "1       samsung galaxy a34 5g 8gb 256gb       114999.0\n",
      "2          samsung galaxy a24 8gb 128gb        79999.0\n",
      "3        xiaomi redmi note 12 8gb 128gb        54999.0\n",
      "4       samsung galaxy a34 5g 8gb 256gb       114999.0\n",
      "..                                  ...            ...\n",
      "90    samsung galaxy z flip 4 8gb 256gb       333000.0\n",
      "91  samsung galaxy s22 ultra 12gb 256gb       425000.0\n",
      "92    samsung galaxy z flip 4 8gb 512gb       367000.0\n",
      "93    samsung galaxy z flip 4 8gb 256gb       333000.0\n",
      "94   samsung galaxy z fold 4 12gb 512gb       575000.0\n",
      "\n",
      "[95 rows x 2 columns]\n"
     ]
    }
   ],
   "source": [
    "data = df_n['Product Name']\n",
    "\n",
    "# Define a function to apply the regex transformation\n",
    "def clean_text(text):\n",
    "    text = text.replace(\"GB/\", \"/\")\n",
    "    processed_str = re.sub(r'[^a-zA-Z0-9/ ]', '', text)\n",
    "    processed_str = processed_str.replace('/','GB ')\n",
    "    # Convert to lowercase\n",
    "    processed_str = processed_str.lower()\n",
    "    gb_indices = [i for i in range(len(processed_str)) if processed_str.startswith('gb', i)]\n",
    "    if len(gb_indices) >= 2:\n",
    "        second_gb_index = gb_indices[1]\n",
    "        processed_str = processed_str[:second_gb_index + 2]\n",
    "        \n",
    "    # Remove extra spaces\n",
    "    processed_str = ' '.join(processed_str.split())\n",
    "\n",
    "    return processed_str\n",
    "        \n",
    "\n",
    "# Apply the function to the entire DataFrame\n",
    "df_n['Product Name'] = data.apply(clean_text)\n",
    "\n",
    "# modified DataFrame\n",
    "print(df_n)"
   ]
  },
  {
   "cell_type": "code",
   "execution_count": 12,
   "id": "e4b718d6",
   "metadata": {},
   "outputs": [
    {
     "data": {
      "text/html": [
       "<div>\n",
       "<style scoped>\n",
       "    .dataframe tbody tr th:only-of-type {\n",
       "        vertical-align: middle;\n",
       "    }\n",
       "\n",
       "    .dataframe tbody tr th {\n",
       "        vertical-align: top;\n",
       "    }\n",
       "\n",
       "    .dataframe thead th {\n",
       "        text-align: right;\n",
       "    }\n",
       "</style>\n",
       "<table border=\"1\" class=\"dataframe\">\n",
       "  <thead>\n",
       "    <tr style=\"text-align: right;\">\n",
       "      <th></th>\n",
       "      <th>Product Name</th>\n",
       "      <th>Product Price</th>\n",
       "    </tr>\n",
       "  </thead>\n",
       "  <tbody>\n",
       "    <tr>\n",
       "      <th>0</th>\n",
       "      <td>xiaomi redmi note 12s 8gb 256gb</td>\n",
       "      <td>74999.0</td>\n",
       "    </tr>\n",
       "    <tr>\n",
       "      <th>1</th>\n",
       "      <td>samsung galaxy a34 5g 8gb 256gb</td>\n",
       "      <td>114999.0</td>\n",
       "    </tr>\n",
       "    <tr>\n",
       "      <th>2</th>\n",
       "      <td>samsung galaxy a24 8gb 128gb</td>\n",
       "      <td>79999.0</td>\n",
       "    </tr>\n",
       "    <tr>\n",
       "      <th>3</th>\n",
       "      <td>xiaomi redmi note 12 8gb 128gb</td>\n",
       "      <td>54999.0</td>\n",
       "    </tr>\n",
       "    <tr>\n",
       "      <th>4</th>\n",
       "      <td>samsung galaxy a34 5g 8gb 256gb</td>\n",
       "      <td>114999.0</td>\n",
       "    </tr>\n",
       "  </tbody>\n",
       "</table>\n",
       "</div>"
      ],
      "text/plain": [
       "                      Product Name  Product Price\n",
       "0  xiaomi redmi note 12s 8gb 256gb        74999.0\n",
       "1  samsung galaxy a34 5g 8gb 256gb       114999.0\n",
       "2     samsung galaxy a24 8gb 128gb        79999.0\n",
       "3   xiaomi redmi note 12 8gb 128gb        54999.0\n",
       "4  samsung galaxy a34 5g 8gb 256gb       114999.0"
      ]
     },
     "execution_count": 12,
     "metadata": {},
     "output_type": "execute_result"
    }
   ],
   "source": [
    "df_n.head()"
   ]
  },
  {
   "cell_type": "code",
   "execution_count": 13,
   "id": "f162f645",
   "metadata": {},
   "outputs": [
    {
     "data": {
      "text/html": [
       "<div>\n",
       "<style scoped>\n",
       "    .dataframe tbody tr th:only-of-type {\n",
       "        vertical-align: middle;\n",
       "    }\n",
       "\n",
       "    .dataframe tbody tr th {\n",
       "        vertical-align: top;\n",
       "    }\n",
       "\n",
       "    .dataframe thead th {\n",
       "        text-align: right;\n",
       "    }\n",
       "</style>\n",
       "<table border=\"1\" class=\"dataframe\">\n",
       "  <thead>\n",
       "    <tr style=\"text-align: right;\">\n",
       "      <th></th>\n",
       "      <th>Product Name</th>\n",
       "      <th>Product Price</th>\n",
       "    </tr>\n",
       "  </thead>\n",
       "  <tbody>\n",
       "    <tr>\n",
       "      <th>90</th>\n",
       "      <td>samsung galaxy z flip 4 8gb 256gb</td>\n",
       "      <td>333000.0</td>\n",
       "    </tr>\n",
       "    <tr>\n",
       "      <th>91</th>\n",
       "      <td>samsung galaxy s22 ultra 12gb 256gb</td>\n",
       "      <td>425000.0</td>\n",
       "    </tr>\n",
       "    <tr>\n",
       "      <th>92</th>\n",
       "      <td>samsung galaxy z flip 4 8gb 512gb</td>\n",
       "      <td>367000.0</td>\n",
       "    </tr>\n",
       "    <tr>\n",
       "      <th>93</th>\n",
       "      <td>samsung galaxy z flip 4 8gb 256gb</td>\n",
       "      <td>333000.0</td>\n",
       "    </tr>\n",
       "    <tr>\n",
       "      <th>94</th>\n",
       "      <td>samsung galaxy z fold 4 12gb 512gb</td>\n",
       "      <td>575000.0</td>\n",
       "    </tr>\n",
       "  </tbody>\n",
       "</table>\n",
       "</div>"
      ],
      "text/plain": [
       "                           Product Name  Product Price\n",
       "90    samsung galaxy z flip 4 8gb 256gb       333000.0\n",
       "91  samsung galaxy s22 ultra 12gb 256gb       425000.0\n",
       "92    samsung galaxy z flip 4 8gb 512gb       367000.0\n",
       "93    samsung galaxy z flip 4 8gb 256gb       333000.0\n",
       "94   samsung galaxy z fold 4 12gb 512gb       575000.0"
      ]
     },
     "execution_count": 13,
     "metadata": {},
     "output_type": "execute_result"
    }
   ],
   "source": [
    "df_n.tail()"
   ]
  },
  {
   "cell_type": "markdown",
   "id": "85694f6a",
   "metadata": {},
   "source": [
    "# Shophive Scraping"
   ]
  },
  {
   "cell_type": "code",
   "execution_count": 14,
   "id": "90f6cb16",
   "metadata": {},
   "outputs": [
    {
     "name": "stdout",
     "output_type": "stream",
     "text": [
      "Product Name: Infinix Note 30 VIP 8GB 256GB\n",
      "Product Price: Rs 33,999.00\n",
      "Product Name: iTel S23 8GB 256GB\n",
      "Product Price: Rs 29,999.00\n",
      "Product Name: iTel S23 8GB 128GB\n",
      "Product Price: Rs 30,999.00\n",
      "Product Name: ZTE Blade A51 2GB 64GB\n",
      "Product Price: Rs 21,999.00\n",
      "Product Name: Honor X6 4GB 64GB\n",
      "Product Price: Rs 34,999.00\n",
      "Product Name: Sparx S6 2GB 32GB\n",
      "Product Price: Rs 40,999.00\n",
      "Product Name: Tecno Spark 10c 4GB 128GB\n",
      "Product Price: Rs 16,299.00\n",
      "Product Name: Infinix Smart 7 4GB 64GB\n",
      "Product Price: Rs 29,999.00\n",
      "Product Name: iTel A26 2GB 32GB\n",
      "Product Price: Rs 25,999.00\n",
      "Product Name: Sparx Neo 7 3GB 64GB\n",
      "Product Price: Rs 22,499.00\n",
      "Product Name: Sparx Neo 5 2GB 32GB\n",
      "Product Price: Rs 24,499.00\n",
      "Product Name: VNUS Sky 1 2GB 32GB\n",
      "Product Price: Rs 21,499.00\n",
      "Product Name: Digit Glory 1 2GB 32GB\n",
      "Product Price: Rs 23,499.00\n",
      "Product Name: VNUS SE22 3GB 64GB\n",
      "Product Price: Rs 16,999.00\n",
      "Product Name: Itel A60S 4GB 128GB\n",
      "Product Price: Rs 17,499.00\n",
      "Product Name: iTel It9010\n",
      "Product Price: Rs 27,999.00\n",
      "Product Name: iTel Value 110\n",
      "Product Price: Rs 2,999.00\n",
      "Product Name: Oneplus 10 Pro 5G 12GB 256GB\n",
      "Product Price: Rs 189,999.00\n",
      "Product Name: Oneplus 10 Pro 5G 12GB 512GB\n",
      "Product Price: Rs 198,999.00\n",
      "Product Name: Google Pixel 6 8GB 128GB\n",
      "Product Price: Rs 34,999.00\n",
      "Product Name: Dcode Bold 2 4GB 64GB\n",
      "Product Price: Rs 249,999.00\n",
      "Product Name: Google Pixel 7 8GB 128GB\n",
      "Product Price: Rs 259,999.00\n",
      "Product Name: Google Pixel 7 Pro\n",
      "Product Price: Rs 23,999.00\n",
      "Product Name: iTel P17 Pro 2GB 32GB\n",
      "Product Price: Rs 32,999.00\n",
      "Product Name: iTel Vision 3\n",
      "Product Price: Rs 3,999.00\n",
      "Product Name: iTel IT9010 4G \n",
      "Product Price: Rs 2,999.00\n",
      "Product Name: iTel Value 100\n",
      "Product Price: Rs 4,599.00\n",
      "Product Name: iTel Muzik 400\n",
      "Product Price: Rs 4,299.00\n",
      "Product Name: iTel Muzik 410 Pro\n",
      "Product Price: Rs 26,799.00\n",
      "Product Name: Xiaomi Redmi 12C 4GB 128GB\n",
      "Product Price: Rs 33,999.00\n",
      "Product Name: Redmi A2+ 3GB 64GB\n",
      "Product Price: Rs 20,999.00\n",
      "Product Name: Samsung Galaxy A04s 4GB 128GB\n",
      "Product Price: Rs 22,999.00\n"
     ]
    }
   ],
   "source": [
    "shophive_data = []\n",
    "for i in range(1,3):\n",
    "    url = \"https://www.shophive.com/mobile-phones?p=\"+str(i)\n",
    "    r = requests.get(url)\n",
    "\n",
    "    soup = BeautifulSoup(r.text,\"lxml\")\n",
    "    \n",
    "    names = soup.find_all(\"a\",class_ = \"product-item-link\")\n",
    "    titles = [a['title'] for a in names]\n",
    "    prices = soup.find_all(\"span\", class_=\"price\")\n",
    "    \n",
    "    for name, price in zip(names, prices):\n",
    "        product_name_s = name['title']\n",
    "        price_text_s = price.text\n",
    "        print(f\"Product Name: {product_name_s}\")\n",
    "        print(f\"Product Price: {price_text_s}\")\n",
    "        shophive_data.append({\"Product Name\": product_name_s, \"Product Price\": price_text_s})\n"
   ]
  },
  {
   "cell_type": "markdown",
   "id": "edf784ac",
   "metadata": {},
   "source": [
    "# Saving in csv"
   ]
  },
  {
   "cell_type": "code",
   "execution_count": 15,
   "id": "0fd25af8",
   "metadata": {},
   "outputs": [
    {
     "name": "stdout",
     "output_type": "stream",
     "text": [
      "                     Product Name  Product Price\n",
      "0   Infinix Note 30 VIP 8GB 256GB   Rs 33,999.00\n",
      "1              iTel S23 8GB 256GB   Rs 29,999.00\n",
      "2              iTel S23 8GB 128GB   Rs 30,999.00\n",
      "3          ZTE Blade A51 2GB 64GB   Rs 21,999.00\n",
      "4               Honor X6 4GB 64GB   Rs 34,999.00\n",
      "5               Sparx S6 2GB 32GB   Rs 40,999.00\n",
      "6       Tecno Spark 10c 4GB 128GB   Rs 16,299.00\n",
      "7        Infinix Smart 7 4GB 64GB   Rs 29,999.00\n",
      "8               iTel A26 2GB 32GB   Rs 25,999.00\n",
      "9            Sparx Neo 7 3GB 64GB   Rs 22,499.00\n",
      "10           Sparx Neo 5 2GB 32GB   Rs 24,499.00\n",
      "11            VNUS Sky 1 2GB 32GB   Rs 21,499.00\n",
      "12         Digit Glory 1 2GB 32GB   Rs 23,499.00\n",
      "13             VNUS SE22 3GB 64GB   Rs 16,999.00\n",
      "14            Itel A60S 4GB 128GB   Rs 17,499.00\n",
      "15                    iTel It9010   Rs 27,999.00\n",
      "16                 iTel Value 110    Rs 2,999.00\n",
      "17   Oneplus 10 Pro 5G 12GB 256GB  Rs 189,999.00\n",
      "18   Oneplus 10 Pro 5G 12GB 512GB  Rs 198,999.00\n",
      "19       Google Pixel 6 8GB 128GB   Rs 34,999.00\n",
      "20          Dcode Bold 2 4GB 64GB  Rs 249,999.00\n",
      "21       Google Pixel 7 8GB 128GB  Rs 259,999.00\n",
      "22             Google Pixel 7 Pro   Rs 23,999.00\n",
      "23          iTel P17 Pro 2GB 32GB   Rs 32,999.00\n",
      "24                  iTel Vision 3    Rs 3,999.00\n",
      "25                iTel IT9010 4G     Rs 2,999.00\n",
      "26                 iTel Value 100    Rs 4,599.00\n",
      "27                 iTel Muzik 400    Rs 4,299.00\n",
      "28             iTel Muzik 410 Pro   Rs 26,799.00\n",
      "29     Xiaomi Redmi 12C 4GB 128GB   Rs 33,999.00\n",
      "30             Redmi A2+ 3GB 64GB   Rs 20,999.00\n",
      "31  Samsung Galaxy A04s 4GB 128GB   Rs 22,999.00\n"
     ]
    }
   ],
   "source": [
    "dfs = pd.DataFrame(shophive_data, columns = [\"Product Name\", \"Product Price\"])\n",
    "print(dfs)"
   ]
  },
  {
   "cell_type": "code",
   "execution_count": 16,
   "id": "4bfe1f6a",
   "metadata": {},
   "outputs": [],
   "source": [
    "writers = pd.ExcelWriter('shophive_data.xlsx')\n",
    "dfs.to_excel(writers,'Sheet1')\n",
    "writers.save()"
   ]
  },
  {
   "cell_type": "markdown",
   "id": "d6cc269c",
   "metadata": {},
   "source": [
    "# Shophive Data cleaning"
   ]
  },
  {
   "cell_type": "code",
   "execution_count": 17,
   "id": "4acb1985",
   "metadata": {},
   "outputs": [
    {
     "data": {
      "text/plain": [
       "<bound method DataFrame.info of                      Product Name  Product Price\n",
       "0   Infinix Note 30 VIP 8GB 256GB   Rs 33,999.00\n",
       "1              iTel S23 8GB 256GB   Rs 29,999.00\n",
       "2              iTel S23 8GB 128GB   Rs 30,999.00\n",
       "3          ZTE Blade A51 2GB 64GB   Rs 21,999.00\n",
       "4               Honor X6 4GB 64GB   Rs 34,999.00\n",
       "5               Sparx S6 2GB 32GB   Rs 40,999.00\n",
       "6       Tecno Spark 10c 4GB 128GB   Rs 16,299.00\n",
       "7        Infinix Smart 7 4GB 64GB   Rs 29,999.00\n",
       "8               iTel A26 2GB 32GB   Rs 25,999.00\n",
       "9            Sparx Neo 7 3GB 64GB   Rs 22,499.00\n",
       "10           Sparx Neo 5 2GB 32GB   Rs 24,499.00\n",
       "11            VNUS Sky 1 2GB 32GB   Rs 21,499.00\n",
       "12         Digit Glory 1 2GB 32GB   Rs 23,499.00\n",
       "13             VNUS SE22 3GB 64GB   Rs 16,999.00\n",
       "14            Itel A60S 4GB 128GB   Rs 17,499.00\n",
       "15                    iTel It9010   Rs 27,999.00\n",
       "16                 iTel Value 110    Rs 2,999.00\n",
       "17   Oneplus 10 Pro 5G 12GB 256GB  Rs 189,999.00\n",
       "18   Oneplus 10 Pro 5G 12GB 512GB  Rs 198,999.00\n",
       "19       Google Pixel 6 8GB 128GB   Rs 34,999.00\n",
       "20          Dcode Bold 2 4GB 64GB  Rs 249,999.00\n",
       "21       Google Pixel 7 8GB 128GB  Rs 259,999.00\n",
       "22             Google Pixel 7 Pro   Rs 23,999.00\n",
       "23          iTel P17 Pro 2GB 32GB   Rs 32,999.00\n",
       "24                  iTel Vision 3    Rs 3,999.00\n",
       "25                iTel IT9010 4G     Rs 2,999.00\n",
       "26                 iTel Value 100    Rs 4,599.00\n",
       "27                 iTel Muzik 400    Rs 4,299.00\n",
       "28             iTel Muzik 410 Pro   Rs 26,799.00\n",
       "29     Xiaomi Redmi 12C 4GB 128GB   Rs 33,999.00\n",
       "30             Redmi A2+ 3GB 64GB   Rs 20,999.00\n",
       "31  Samsung Galaxy A04s 4GB 128GB   Rs 22,999.00>"
      ]
     },
     "execution_count": 17,
     "metadata": {},
     "output_type": "execute_result"
    }
   ],
   "source": [
    "dfs.info"
   ]
  },
  {
   "cell_type": "code",
   "execution_count": 18,
   "id": "ba7ca916",
   "metadata": {},
   "outputs": [
    {
     "data": {
      "text/html": [
       "<div>\n",
       "<style scoped>\n",
       "    .dataframe tbody tr th:only-of-type {\n",
       "        vertical-align: middle;\n",
       "    }\n",
       "\n",
       "    .dataframe tbody tr th {\n",
       "        vertical-align: top;\n",
       "    }\n",
       "\n",
       "    .dataframe thead th {\n",
       "        text-align: right;\n",
       "    }\n",
       "</style>\n",
       "<table border=\"1\" class=\"dataframe\">\n",
       "  <thead>\n",
       "    <tr style=\"text-align: right;\">\n",
       "      <th></th>\n",
       "      <th>Product Name</th>\n",
       "      <th>Product Price</th>\n",
       "    </tr>\n",
       "  </thead>\n",
       "  <tbody>\n",
       "    <tr>\n",
       "      <th>0</th>\n",
       "      <td>Infinix Note 30 VIP 8GB 256GB</td>\n",
       "      <td>Rs 33,999.00</td>\n",
       "    </tr>\n",
       "    <tr>\n",
       "      <th>1</th>\n",
       "      <td>iTel S23 8GB 256GB</td>\n",
       "      <td>Rs 29,999.00</td>\n",
       "    </tr>\n",
       "    <tr>\n",
       "      <th>2</th>\n",
       "      <td>iTel S23 8GB 128GB</td>\n",
       "      <td>Rs 30,999.00</td>\n",
       "    </tr>\n",
       "    <tr>\n",
       "      <th>3</th>\n",
       "      <td>ZTE Blade A51 2GB 64GB</td>\n",
       "      <td>Rs 21,999.00</td>\n",
       "    </tr>\n",
       "    <tr>\n",
       "      <th>4</th>\n",
       "      <td>Honor X6 4GB 64GB</td>\n",
       "      <td>Rs 34,999.00</td>\n",
       "    </tr>\n",
       "  </tbody>\n",
       "</table>\n",
       "</div>"
      ],
      "text/plain": [
       "                    Product Name Product Price\n",
       "0  Infinix Note 30 VIP 8GB 256GB  Rs 33,999.00\n",
       "1             iTel S23 8GB 256GB  Rs 29,999.00\n",
       "2             iTel S23 8GB 128GB  Rs 30,999.00\n",
       "3         ZTE Blade A51 2GB 64GB  Rs 21,999.00\n",
       "4              Honor X6 4GB 64GB  Rs 34,999.00"
      ]
     },
     "execution_count": 18,
     "metadata": {},
     "output_type": "execute_result"
    }
   ],
   "source": [
    "dfs.head()"
   ]
  },
  {
   "cell_type": "code",
   "execution_count": 19,
   "id": "8ccf06f1",
   "metadata": {},
   "outputs": [
    {
     "data": {
      "text/plain": [
       "dtype('O')"
      ]
     },
     "execution_count": 19,
     "metadata": {},
     "output_type": "execute_result"
    }
   ],
   "source": [
    "dfs[\"Product Price\"].dtype"
   ]
  },
  {
   "cell_type": "code",
   "execution_count": 20,
   "id": "c699111c",
   "metadata": {},
   "outputs": [
    {
     "name": "stderr",
     "output_type": "stream",
     "text": [
      "C:\\Users\\FIVEST~1\\AppData\\Local\\Temp/ipykernel_504/3235501256.py:2: FutureWarning: The default value of regex will change from True to False in a future version.\n",
      "  dfs[column_name] = dfs[column_name].str.replace('Rs.', '').str.replace(',', '', regex=True).astype(float)\n"
     ]
    }
   ],
   "source": [
    "column_name = \"Product Price\"\n",
    "dfs[column_name] = dfs[column_name].str.replace('Rs.', '').str.replace(',', '', regex=True).astype(float)"
   ]
  },
  {
   "cell_type": "code",
   "execution_count": 21,
   "id": "7c4ec12e",
   "metadata": {},
   "outputs": [
    {
     "data": {
      "text/plain": [
       "dtype('float64')"
      ]
     },
     "execution_count": 21,
     "metadata": {},
     "output_type": "execute_result"
    }
   ],
   "source": [
    "dfs[\"Product Price\"].dtype"
   ]
  },
  {
   "cell_type": "code",
   "execution_count": 22,
   "id": "e25427a8",
   "metadata": {},
   "outputs": [
    {
     "data": {
      "text/html": [
       "<div>\n",
       "<style scoped>\n",
       "    .dataframe tbody tr th:only-of-type {\n",
       "        vertical-align: middle;\n",
       "    }\n",
       "\n",
       "    .dataframe tbody tr th {\n",
       "        vertical-align: top;\n",
       "    }\n",
       "\n",
       "    .dataframe thead th {\n",
       "        text-align: right;\n",
       "    }\n",
       "</style>\n",
       "<table border=\"1\" class=\"dataframe\">\n",
       "  <thead>\n",
       "    <tr style=\"text-align: right;\">\n",
       "      <th></th>\n",
       "      <th>Product Name</th>\n",
       "      <th>Product Price</th>\n",
       "    </tr>\n",
       "  </thead>\n",
       "  <tbody>\n",
       "    <tr>\n",
       "      <th>0</th>\n",
       "      <td>Infinix Note 30 VIP 8GB 256GB</td>\n",
       "      <td>33999.0</td>\n",
       "    </tr>\n",
       "    <tr>\n",
       "      <th>1</th>\n",
       "      <td>iTel S23 8GB 256GB</td>\n",
       "      <td>29999.0</td>\n",
       "    </tr>\n",
       "    <tr>\n",
       "      <th>2</th>\n",
       "      <td>iTel S23 8GB 128GB</td>\n",
       "      <td>30999.0</td>\n",
       "    </tr>\n",
       "    <tr>\n",
       "      <th>3</th>\n",
       "      <td>ZTE Blade A51 2GB 64GB</td>\n",
       "      <td>21999.0</td>\n",
       "    </tr>\n",
       "    <tr>\n",
       "      <th>4</th>\n",
       "      <td>Honor X6 4GB 64GB</td>\n",
       "      <td>34999.0</td>\n",
       "    </tr>\n",
       "  </tbody>\n",
       "</table>\n",
       "</div>"
      ],
      "text/plain": [
       "                    Product Name  Product Price\n",
       "0  Infinix Note 30 VIP 8GB 256GB        33999.0\n",
       "1             iTel S23 8GB 256GB        29999.0\n",
       "2             iTel S23 8GB 128GB        30999.0\n",
       "3         ZTE Blade A51 2GB 64GB        21999.0\n",
       "4              Honor X6 4GB 64GB        34999.0"
      ]
     },
     "execution_count": 22,
     "metadata": {},
     "output_type": "execute_result"
    }
   ],
   "source": [
    "dfs.head()"
   ]
  },
  {
   "cell_type": "markdown",
   "id": "62a0e9f0",
   "metadata": {},
   "source": [
    "# Function for product name"
   ]
  },
  {
   "cell_type": "code",
   "execution_count": 23,
   "id": "764c9a04",
   "metadata": {},
   "outputs": [
    {
     "name": "stdout",
     "output_type": "stream",
     "text": [
      "                     Product Name  Product Price\n",
      "0   infinix note 30 vip 8gb 256gb        33999.0\n",
      "1              itel s23 8gb 256gb        29999.0\n",
      "2              itel s23 8gb 128gb        30999.0\n",
      "3          zte blade a51 2gb 64gb        21999.0\n",
      "4               honor x6 4gb 64gb        34999.0\n",
      "5               sparx s6 2gb 32gb        40999.0\n",
      "6       tecno spark 10c 4gb 128gb        16299.0\n",
      "7        infinix smart 7 4gb 64gb        29999.0\n",
      "8               itel a26 2gb 32gb        25999.0\n",
      "9            sparx neo 7 3gb 64gb        22499.0\n",
      "10           sparx neo 5 2gb 32gb        24499.0\n",
      "11            vnus sky 1 2gb 32gb        21499.0\n",
      "12         digit glory 1 2gb 32gb        23499.0\n",
      "13             vnus se22 3gb 64gb        16999.0\n",
      "14            itel a60s 4gb 128gb        17499.0\n",
      "15                    itel it9010        27999.0\n",
      "16                 itel value 110         2999.0\n",
      "17   oneplus 10 pro 5g 12gb 256gb       189999.0\n",
      "18   oneplus 10 pro 5g 12gb 512gb       198999.0\n",
      "19       google pixel 6 8gb 128gb        34999.0\n",
      "20          dcode bold 2 4gb 64gb       249999.0\n",
      "21       google pixel 7 8gb 128gb       259999.0\n",
      "22             google pixel 7 pro        23999.0\n",
      "23          itel p17 pro 2gb 32gb        32999.0\n",
      "24                  itel vision 3         3999.0\n",
      "25                 itel it9010 4g         2999.0\n",
      "26                 itel value 100         4599.0\n",
      "27                 itel muzik 400         4299.0\n",
      "28             itel muzik 410 pro        26799.0\n",
      "29     xiaomi redmi 12c 4gb 128gb        33999.0\n",
      "30              redmi a2 3gb 64gb        20999.0\n",
      "31  samsung galaxy a04s 4gb 128gb        22999.0\n"
     ]
    }
   ],
   "source": [
    "data_s = dfs['Product Name']\n",
    "\n",
    "# Define a function to apply the regex transformation\n",
    "def process_string(input_str):\n",
    "    input_str = input_str.replace(\"GB/\", \"/\")\n",
    "    process_str = re.sub(r'[^a-zA-Z0-9/ ]', '', input_str)\n",
    "    process_str = process_str.replace('/','GB ')\n",
    "    # Convert to lowercase\n",
    "    process_str = process_str.lower()\n",
    "    gb_indices = [i for i in range(len(process_str)) if process_str.startswith('gb', i)]\n",
    "    if len(gb_indices) >= 2:\n",
    "        second_gb_index = gb_indices[1]\n",
    "        process_str = process_str[:second_gb_index + 2]\n",
    "        \n",
    "    # Remove extra spaces\n",
    "    process_str = ' '.join(process_str.split())\n",
    "\n",
    "    return process_str\n",
    "        \n",
    "\n",
    "# Apply the function to the entire DataFrame\n",
    "dfs['Product Name'] = data_s.apply(clean_text)\n",
    "\n",
    "# Display the modified DataFrame\n",
    "print(dfs)"
   ]
  },
  {
   "cell_type": "code",
   "execution_count": null,
   "id": "ec4d0226",
   "metadata": {},
   "outputs": [],
   "source": []
  },
  {
   "cell_type": "code",
   "execution_count": null,
   "id": "68eae45f",
   "metadata": {},
   "outputs": [],
   "source": []
  },
  {
   "cell_type": "markdown",
   "id": "8aff9662",
   "metadata": {},
   "source": [
    "# Comparison"
   ]
  },
  {
   "cell_type": "code",
   "execution_count": 28,
   "id": "c9a2c710",
   "metadata": {},
   "outputs": [
    {
     "name": "stdout",
     "output_type": "stream",
     "text": [
      "                    Product Name  Product Price_Naheed  \\\n",
      "0     xiaomi redmi 12c 4gb 128gb               27999.0   \n",
      "1  samsung galaxy a04s 4gb 128gb               43999.0   \n",
      "\n",
      "   Product Price_Shophive  min_price  \n",
      "0                 33999.0    27999.0  \n",
      "1                 22999.0    22999.0  \n"
     ]
    }
   ],
   "source": [
    "#import pandas as pd\n",
    "\n",
    "df1 = df_n.drop_duplicates(subset='Product Name')\n",
    "df2 = dfs.drop_duplicates(subset='Product Name')\n",
    "\n",
    "# Merge DataFrames on 'Product Name'\n",
    "merged_df = pd.merge(df1, df2, how='inner', on='Product Name', suffixes=('_Naheed', '_Shophive'))\n",
    "\n",
    "# Create a new column 'min_price' with the minimum price\n",
    "merged_df['min_price'] = merged_df[['Product Price_Naheed', 'Product Price_Shophive']].min(axis=1)\n",
    "\n",
    "# print DataFrame\n",
    "print(merged_df[['Product Name', 'Product Price_Naheed', 'Product Price_Shophive', 'min_price']])\n"
   ]
  },
  {
   "cell_type": "code",
   "execution_count": 29,
   "id": "ae94ded6",
   "metadata": {},
   "outputs": [
    {
     "data": {
      "text/html": [
       "<div>\n",
       "<style scoped>\n",
       "    .dataframe tbody tr th:only-of-type {\n",
       "        vertical-align: middle;\n",
       "    }\n",
       "\n",
       "    .dataframe tbody tr th {\n",
       "        vertical-align: top;\n",
       "    }\n",
       "\n",
       "    .dataframe thead th {\n",
       "        text-align: right;\n",
       "    }\n",
       "</style>\n",
       "<table border=\"1\" class=\"dataframe\">\n",
       "  <thead>\n",
       "    <tr style=\"text-align: right;\">\n",
       "      <th></th>\n",
       "      <th>Product Name</th>\n",
       "      <th>Product Price_Naheed</th>\n",
       "      <th>Product Price_Shophive</th>\n",
       "      <th>min_price</th>\n",
       "    </tr>\n",
       "  </thead>\n",
       "  <tbody>\n",
       "    <tr>\n",
       "      <th>0</th>\n",
       "      <td>xiaomi redmi 12c 4gb 128gb</td>\n",
       "      <td>27999.0</td>\n",
       "      <td>33999.0</td>\n",
       "      <td>27999.0</td>\n",
       "    </tr>\n",
       "    <tr>\n",
       "      <th>1</th>\n",
       "      <td>samsung galaxy a04s 4gb 128gb</td>\n",
       "      <td>43999.0</td>\n",
       "      <td>22999.0</td>\n",
       "      <td>22999.0</td>\n",
       "    </tr>\n",
       "  </tbody>\n",
       "</table>\n",
       "</div>"
      ],
      "text/plain": [
       "                    Product Name  Product Price_Naheed  \\\n",
       "0     xiaomi redmi 12c 4gb 128gb               27999.0   \n",
       "1  samsung galaxy a04s 4gb 128gb               43999.0   \n",
       "\n",
       "   Product Price_Shophive  min_price  \n",
       "0                 33999.0    27999.0  \n",
       "1                 22999.0    22999.0  "
      ]
     },
     "execution_count": 29,
     "metadata": {},
     "output_type": "execute_result"
    }
   ],
   "source": [
    "merged_df.head()"
   ]
  },
  {
   "cell_type": "code",
   "execution_count": 32,
   "id": "1272705a",
   "metadata": {},
   "outputs": [
    {
     "name": "stdout",
     "output_type": "stream",
     "text": [
      "                    Product Name  Product Price_Naheed  \\\n",
      "0     xiaomi redmi 12c 4gb 128gb               27999.0   \n",
      "1  samsung galaxy a04s 4gb 128gb               43999.0   \n",
      "\n",
      "   Product Price_Shophive  min_price  \\\n",
      "0                 33999.0    27999.0   \n",
      "1                 22999.0    22999.0   \n",
      "\n",
      "                                recommended_website  \n",
      "0  https://www.naheed.pk/phones-tablets/smartphones  \n",
      "1            https://www.shophive.com/mobile-phones  \n"
     ]
    }
   ],
   "source": [
    "merged_df['recommended_website'] = merged_df.apply(lambda row: 'https://www.naheed.pk/phones-tablets/smartphones' if row['min_price'] == row['Product Price_Naheed']\n",
    "                                                  else 'https://www.shophive.com/mobile-phones', axis=1)\n",
    "\n",
    "\n",
    "print(merged_df[['Product Name', 'Product Price_Naheed', 'Product Price_Shophive', 'min_price', 'recommended_website']])"
   ]
  },
  {
   "cell_type": "code",
   "execution_count": 33,
   "id": "8f3c8284",
   "metadata": {},
   "outputs": [
    {
     "data": {
      "text/html": [
       "<div>\n",
       "<style scoped>\n",
       "    .dataframe tbody tr th:only-of-type {\n",
       "        vertical-align: middle;\n",
       "    }\n",
       "\n",
       "    .dataframe tbody tr th {\n",
       "        vertical-align: top;\n",
       "    }\n",
       "\n",
       "    .dataframe thead th {\n",
       "        text-align: right;\n",
       "    }\n",
       "</style>\n",
       "<table border=\"1\" class=\"dataframe\">\n",
       "  <thead>\n",
       "    <tr style=\"text-align: right;\">\n",
       "      <th></th>\n",
       "      <th>Product Name</th>\n",
       "      <th>Product Price_Naheed</th>\n",
       "      <th>Product Price_Shophive</th>\n",
       "      <th>min_price</th>\n",
       "      <th>recommended_website</th>\n",
       "    </tr>\n",
       "  </thead>\n",
       "  <tbody>\n",
       "    <tr>\n",
       "      <th>0</th>\n",
       "      <td>xiaomi redmi 12c 4gb 128gb</td>\n",
       "      <td>27999.0</td>\n",
       "      <td>33999.0</td>\n",
       "      <td>27999.0</td>\n",
       "      <td>https://www.naheed.pk/phones-tablets/smartphones</td>\n",
       "    </tr>\n",
       "    <tr>\n",
       "      <th>1</th>\n",
       "      <td>samsung galaxy a04s 4gb 128gb</td>\n",
       "      <td>43999.0</td>\n",
       "      <td>22999.0</td>\n",
       "      <td>22999.0</td>\n",
       "      <td>https://www.shophive.com/mobile-phones</td>\n",
       "    </tr>\n",
       "  </tbody>\n",
       "</table>\n",
       "</div>"
      ],
      "text/plain": [
       "                    Product Name  Product Price_Naheed  \\\n",
       "0     xiaomi redmi 12c 4gb 128gb               27999.0   \n",
       "1  samsung galaxy a04s 4gb 128gb               43999.0   \n",
       "\n",
       "   Product Price_Shophive  min_price  \\\n",
       "0                 33999.0    27999.0   \n",
       "1                 22999.0    22999.0   \n",
       "\n",
       "                                recommended_website  \n",
       "0  https://www.naheed.pk/phones-tablets/smartphones  \n",
       "1            https://www.shophive.com/mobile-phones  "
      ]
     },
     "execution_count": 33,
     "metadata": {},
     "output_type": "execute_result"
    }
   ],
   "source": [
    "merged_df.head()"
   ]
  },
  {
   "cell_type": "code",
   "execution_count": null,
   "id": "673b9d5e",
   "metadata": {},
   "outputs": [],
   "source": []
  }
 ],
 "metadata": {
  "kernelspec": {
   "display_name": "Python 3 (ipykernel)",
   "language": "python",
   "name": "python3"
  },
  "language_info": {
   "codemirror_mode": {
    "name": "ipython",
    "version": 3
   },
   "file_extension": ".py",
   "mimetype": "text/x-python",
   "name": "python",
   "nbconvert_exporter": "python",
   "pygments_lexer": "ipython3",
   "version": "3.9.7"
  }
 },
 "nbformat": 4,
 "nbformat_minor": 5
}
